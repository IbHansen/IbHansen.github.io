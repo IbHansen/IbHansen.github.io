{
 "cells": [
  {
   "cell_type": "markdown",
   "id": "43faeff0",
   "metadata": {},
   "source": [
    "# Updating Variables in a dataframe. \n",
    "Creating scenarios requires updating variables  (columns in a dataframe). This can be done straight using pandas methods.<br>\n",
    "But in some cases some useful modelflow functions can be handy. "
   ]
  },
  {
   "cell_type": "markdown",
   "id": "70399c65",
   "metadata": {
    "tags": [
     "remove-cell"
    ]
   },
   "source": [
    " %load_ext autoreload\n",
    " %autoreload 2\n"
   ]
  },
  {
   "cell_type": "code",
   "execution_count": 264,
   "id": "de8b08d7",
   "metadata": {},
   "outputs": [
    {
     "data": {
      "text/html": [
       "\n",
       "        <style>\n",
       "            div#notebook-container    { width: 95%; }\n",
       "            div#menubar-container     { width: 65%; }\n",
       "            div#maintoolbar-container { width: 99%; }\n",
       "        </style>\n",
       "        "
      ],
      "text/plain": [
       "<IPython.core.display.HTML object>"
      ]
     },
     "metadata": {},
     "output_type": "display_data"
    }
   ],
   "source": [
    "import pandas as pd\n",
    "\n",
    "from modelclass import model \n",
    "model.widescreen()\n",
    "model.scroll_off()"
   ]
  },
  {
   "cell_type": "markdown",
   "id": "0f48347c",
   "metadata": {},
   "source": [
    "## Create dataframe to update: "
   ]
  },
  {
   "cell_type": "code",
   "execution_count": 265,
   "id": "5792514c",
   "metadata": {},
   "outputs": [
    {
     "data": {
      "text/html": [
       "<div>\n",
       "<style scoped>\n",
       "    .dataframe tbody tr th:only-of-type {\n",
       "        vertical-align: middle;\n",
       "    }\n",
       "\n",
       "    .dataframe tbody tr th {\n",
       "        vertical-align: top;\n",
       "    }\n",
       "\n",
       "    .dataframe thead th {\n",
       "        text-align: right;\n",
       "    }\n",
       "</style>\n",
       "<table border=\"1\" class=\"dataframe\">\n",
       "  <thead>\n",
       "    <tr style=\"text-align: right;\">\n",
       "      <th></th>\n",
       "      <th>A</th>\n",
       "      <th>B</th>\n",
       "    </tr>\n",
       "  </thead>\n",
       "  <tbody>\n",
       "    <tr>\n",
       "      <th>2020</th>\n",
       "      <td>100.0</td>\n",
       "      <td>100.0</td>\n",
       "    </tr>\n",
       "    <tr>\n",
       "      <th>2021</th>\n",
       "      <td>100.0</td>\n",
       "      <td>100.0</td>\n",
       "    </tr>\n",
       "    <tr>\n",
       "      <th>2022</th>\n",
       "      <td>100.0</td>\n",
       "      <td>100.0</td>\n",
       "    </tr>\n",
       "    <tr>\n",
       "      <th>2023</th>\n",
       "      <td>100.0</td>\n",
       "      <td>100.0</td>\n",
       "    </tr>\n",
       "    <tr>\n",
       "      <th>2024</th>\n",
       "      <td>100.0</td>\n",
       "      <td>100.0</td>\n",
       "    </tr>\n",
       "    <tr>\n",
       "      <th>2025</th>\n",
       "      <td>100.0</td>\n",
       "      <td>100.0</td>\n",
       "    </tr>\n",
       "  </tbody>\n",
       "</table>\n",
       "</div>"
      ],
      "text/plain": [
       "          A      B\n",
       "2020  100.0  100.0\n",
       "2021  100.0  100.0\n",
       "2022  100.0  100.0\n",
       "2023  100.0  100.0\n",
       "2024  100.0  100.0\n",
       "2025  100.0  100.0"
      ]
     },
     "execution_count": 265,
     "metadata": {},
     "output_type": "execute_result"
    }
   ],
   "source": [
    "number_of_rows = 6 \n",
    "df = pd.DataFrame([100.]*number_of_rows,index=[2020+v for v in range(number_of_rows)],columns=['A'])\n",
    "df.loc[:,'B'.split() ]= 100.0\n",
    "df"
   ]
  },
  {
   "cell_type": "markdown",
   "id": "17e14a18",
   "metadata": {},
   "source": [
    "## = Setting value equal to input"
   ]
  },
  {
   "cell_type": "code",
   "execution_count": 266,
   "id": "b683401a",
   "metadata": {},
   "outputs": [
    {
     "data": {
      "text/html": [
       "<div>\n",
       "<style scoped>\n",
       "    .dataframe tbody tr th:only-of-type {\n",
       "        vertical-align: middle;\n",
       "    }\n",
       "\n",
       "    .dataframe tbody tr th {\n",
       "        vertical-align: top;\n",
       "    }\n",
       "\n",
       "    .dataframe thead th {\n",
       "        text-align: right;\n",
       "    }\n",
       "</style>\n",
       "<table border=\"1\" class=\"dataframe\">\n",
       "  <thead>\n",
       "    <tr style=\"text-align: right;\">\n",
       "      <th></th>\n",
       "      <th>A</th>\n",
       "      <th>B</th>\n",
       "    </tr>\n",
       "  </thead>\n",
       "  <tbody>\n",
       "    <tr>\n",
       "      <th>2020</th>\n",
       "      <td>100.0</td>\n",
       "      <td>100.0</td>\n",
       "    </tr>\n",
       "    <tr>\n",
       "      <th>2021</th>\n",
       "      <td>42.0</td>\n",
       "      <td>100.0</td>\n",
       "    </tr>\n",
       "    <tr>\n",
       "      <th>2022</th>\n",
       "      <td>44.0</td>\n",
       "      <td>100.0</td>\n",
       "    </tr>\n",
       "    <tr>\n",
       "      <th>2023</th>\n",
       "      <td>100.0</td>\n",
       "      <td>100.0</td>\n",
       "    </tr>\n",
       "    <tr>\n",
       "      <th>2024</th>\n",
       "      <td>100.0</td>\n",
       "      <td>100.0</td>\n",
       "    </tr>\n",
       "    <tr>\n",
       "      <th>2025</th>\n",
       "      <td>100.0</td>\n",
       "      <td>100.0</td>\n",
       "    </tr>\n",
       "  </tbody>\n",
       "</table>\n",
       "</div>"
      ],
      "text/plain": [
       "          A      B\n",
       "2020  100.0  100.0\n",
       "2021   42.0  100.0\n",
       "2022   44.0  100.0\n",
       "2023  100.0  100.0\n",
       "2024  100.0  100.0\n",
       "2025  100.0  100.0"
      ]
     },
     "execution_count": 266,
     "metadata": {},
     "output_type": "execute_result"
    }
   ],
   "source": [
    "model.update(df,'''\n",
    "# Same number of values as years\n",
    "A = 42 44   / 2021 2022\n",
    "''')"
   ]
  },
  {
   "cell_type": "markdown",
   "id": "48dd67e0",
   "metadata": {},
   "source": [
    "## + adding input to previous value "
   ]
  },
  {
   "cell_type": "code",
   "execution_count": 267,
   "id": "e2ca804f",
   "metadata": {},
   "outputs": [
    {
     "data": {
      "text/html": [
       "<div>\n",
       "<style scoped>\n",
       "    .dataframe tbody tr th:only-of-type {\n",
       "        vertical-align: middle;\n",
       "    }\n",
       "\n",
       "    .dataframe tbody tr th {\n",
       "        vertical-align: top;\n",
       "    }\n",
       "\n",
       "    .dataframe thead th {\n",
       "        text-align: right;\n",
       "    }\n",
       "</style>\n",
       "<table border=\"1\" class=\"dataframe\">\n",
       "  <thead>\n",
       "    <tr style=\"text-align: right;\">\n",
       "      <th></th>\n",
       "      <th>A</th>\n",
       "      <th>B</th>\n",
       "    </tr>\n",
       "  </thead>\n",
       "  <tbody>\n",
       "    <tr>\n",
       "      <th>2020</th>\n",
       "      <td>100.0</td>\n",
       "      <td>100.0</td>\n",
       "    </tr>\n",
       "    <tr>\n",
       "      <th>2021</th>\n",
       "      <td>100.0</td>\n",
       "      <td>100.0</td>\n",
       "    </tr>\n",
       "    <tr>\n",
       "      <th>2022</th>\n",
       "      <td>100.0</td>\n",
       "      <td>142.0</td>\n",
       "    </tr>\n",
       "    <tr>\n",
       "      <th>2023</th>\n",
       "      <td>100.0</td>\n",
       "      <td>142.0</td>\n",
       "    </tr>\n",
       "    <tr>\n",
       "      <th>2024</th>\n",
       "      <td>100.0</td>\n",
       "      <td>142.0</td>\n",
       "    </tr>\n",
       "    <tr>\n",
       "      <th>2025</th>\n",
       "      <td>100.0</td>\n",
       "      <td>100.0</td>\n",
       "    </tr>\n",
       "  </tbody>\n",
       "</table>\n",
       "</div>"
      ],
      "text/plain": [
       "          A      B\n",
       "2020  100.0  100.0\n",
       "2021  100.0  100.0\n",
       "2022  100.0  142.0\n",
       "2023  100.0  142.0\n",
       "2024  100.0  142.0\n",
       "2025  100.0  100.0"
      ]
     },
     "execution_count": 267,
     "metadata": {},
     "output_type": "execute_result"
    }
   ],
   "source": [
    "model.update(df,'''\n",
    "# Or one number to all years in between start and end \n",
    "B  +  42 / 2022 2024\n",
    "''')"
   ]
  },
  {
   "cell_type": "markdown",
   "id": "960f4ec7",
   "metadata": {},
   "source": [
    "## * multipying  previous value by input "
   ]
  },
  {
   "cell_type": "code",
   "execution_count": 268,
   "id": "f642184f",
   "metadata": {},
   "outputs": [
    {
     "data": {
      "text/html": [
       "<div>\n",
       "<style scoped>\n",
       "    .dataframe tbody tr th:only-of-type {\n",
       "        vertical-align: middle;\n",
       "    }\n",
       "\n",
       "    .dataframe tbody tr th {\n",
       "        vertical-align: top;\n",
       "    }\n",
       "\n",
       "    .dataframe thead th {\n",
       "        text-align: right;\n",
       "    }\n",
       "</style>\n",
       "<table border=\"1\" class=\"dataframe\">\n",
       "  <thead>\n",
       "    <tr style=\"text-align: right;\">\n",
       "      <th></th>\n",
       "      <th>A</th>\n",
       "      <th>B</th>\n",
       "    </tr>\n",
       "  </thead>\n",
       "  <tbody>\n",
       "    <tr>\n",
       "      <th>2020</th>\n",
       "      <td>100.0</td>\n",
       "      <td>100.0</td>\n",
       "    </tr>\n",
       "    <tr>\n",
       "      <th>2021</th>\n",
       "      <td>4200.0</td>\n",
       "      <td>100.0</td>\n",
       "    </tr>\n",
       "    <tr>\n",
       "      <th>2022</th>\n",
       "      <td>4400.0</td>\n",
       "      <td>100.0</td>\n",
       "    </tr>\n",
       "    <tr>\n",
       "      <th>2023</th>\n",
       "      <td>100.0</td>\n",
       "      <td>100.0</td>\n",
       "    </tr>\n",
       "    <tr>\n",
       "      <th>2024</th>\n",
       "      <td>100.0</td>\n",
       "      <td>100.0</td>\n",
       "    </tr>\n",
       "    <tr>\n",
       "      <th>2025</th>\n",
       "      <td>100.0</td>\n",
       "      <td>100.0</td>\n",
       "    </tr>\n",
       "  </tbody>\n",
       "</table>\n",
       "</div>"
      ],
      "text/plain": [
       "           A      B\n",
       "2020   100.0  100.0\n",
       "2021  4200.0  100.0\n",
       "2022  4400.0  100.0\n",
       "2023   100.0  100.0\n",
       "2024   100.0  100.0\n",
       "2025   100.0  100.0"
      ]
     },
     "execution_count": 268,
     "metadata": {},
     "output_type": "execute_result"
    }
   ],
   "source": [
    "model.update(df,'''\n",
    "# Same number of values as years\n",
    "A *  42 44   / 2021 2022\n",
    "''')"
   ]
  },
  {
   "cell_type": "markdown",
   "id": "ed2d8fd4",
   "metadata": {},
   "source": [
    "## % Increase by percent  "
   ]
  },
  {
   "cell_type": "code",
   "execution_count": 269,
   "id": "0b7a83f4",
   "metadata": {},
   "outputs": [
    {
     "data": {
      "text/html": [
       "<div>\n",
       "<style scoped>\n",
       "    .dataframe tbody tr th:only-of-type {\n",
       "        vertical-align: middle;\n",
       "    }\n",
       "\n",
       "    .dataframe tbody tr th {\n",
       "        vertical-align: top;\n",
       "    }\n",
       "\n",
       "    .dataframe thead th {\n",
       "        text-align: right;\n",
       "    }\n",
       "</style>\n",
       "<table border=\"1\" class=\"dataframe\">\n",
       "  <thead>\n",
       "    <tr style=\"text-align: right;\">\n",
       "      <th></th>\n",
       "      <th>A</th>\n",
       "      <th>B</th>\n",
       "      <th>SAME</th>\n",
       "    </tr>\n",
       "  </thead>\n",
       "  <tbody>\n",
       "    <tr>\n",
       "      <th>2020</th>\n",
       "      <td>100.0</td>\n",
       "      <td>100.0</td>\n",
       "      <td>142.0</td>\n",
       "    </tr>\n",
       "    <tr>\n",
       "      <th>2021</th>\n",
       "      <td>142.0</td>\n",
       "      <td>100.0</td>\n",
       "      <td>142.0</td>\n",
       "    </tr>\n",
       "    <tr>\n",
       "      <th>2022</th>\n",
       "      <td>144.0</td>\n",
       "      <td>100.0</td>\n",
       "      <td>142.0</td>\n",
       "    </tr>\n",
       "    <tr>\n",
       "      <th>2023</th>\n",
       "      <td>100.0</td>\n",
       "      <td>100.0</td>\n",
       "      <td>142.0</td>\n",
       "    </tr>\n",
       "    <tr>\n",
       "      <th>2024</th>\n",
       "      <td>100.0</td>\n",
       "      <td>100.0</td>\n",
       "      <td>142.0</td>\n",
       "    </tr>\n",
       "    <tr>\n",
       "      <th>2025</th>\n",
       "      <td>100.0</td>\n",
       "      <td>100.0</td>\n",
       "      <td>142.0</td>\n",
       "    </tr>\n",
       "  </tbody>\n",
       "</table>\n",
       "</div>"
      ],
      "text/plain": [
       "          A      B   SAME\n",
       "2020  100.0  100.0  142.0\n",
       "2021  142.0  100.0  142.0\n",
       "2022  144.0  100.0  142.0\n",
       "2023  100.0  100.0  142.0\n",
       "2024  100.0  100.0  142.0\n",
       "2025  100.0  100.0  142.0"
      ]
     },
     "execution_count": 269,
     "metadata": {},
     "output_type": "execute_result"
    }
   ],
   "source": [
    "model.update(df,'''\n",
    "# Same number of values as years\n",
    "A %  42 44   / 2021 2022\n",
    "same = 100 \n",
    "same % 42 \n",
    "''')"
   ]
  },
  {
   "cell_type": "markdown",
   "id": "9f736f80",
   "metadata": {},
   "source": [
    "## =GROWTH Set the percent growth rate   "
   ]
  },
  {
   "cell_type": "code",
   "execution_count": 270,
   "id": "e42877b9",
   "metadata": {},
   "outputs": [
    {
     "name": "stdout",
     "output_type": "stream",
     "text": [
      "Dataframe:\n",
      "           A      B        SAME\n",
      "2020  100.00  100.0  100.000000\n",
      "2021  101.00  100.0  102.000000\n",
      "2022  106.05  100.0  104.040000\n",
      "2023  100.00  100.0  106.120800\n",
      "2024  100.00  100.0  108.243216\n",
      "2025  100.00  100.0  110.408080\n",
      "\n",
      "Growth:\n",
      "             A    B  SAME\n",
      "2020       NaN  NaN   NaN\n",
      "2021  1.000000  0.0   2.0\n",
      "2022  5.000000  0.0   2.0\n",
      "2023 -5.704856  0.0   2.0\n",
      "2024  0.000000  0.0   2.0\n",
      "2025  0.000000  0.0   2.0\n",
      "\n"
     ]
    }
   ],
   "source": [
    "res = model.update(df,'''\n",
    "# Same number of values as years\n",
    "A =GROWTH  1 5  / 2021 2022\n",
    "# No years mean all years. The variable is not in the dataframe and set to 0 before update  \n",
    "same = 100 /2020\n",
    "same =growth 2 /2021 2025 \n",
    "''')\n",
    "print(f'Dataframe:\\n{res}\\n\\nGrowth:\\n{res.pct_change()*100}\\n')"
   ]
  },
  {
   "cell_type": "markdown",
   "id": "762a7c55",
   "metadata": {},
   "source": [
    "## +GROWTH increase the growth rate    "
   ]
  },
  {
   "cell_type": "code",
   "execution_count": 271,
   "id": "f8c1ae12",
   "metadata": {},
   "outputs": [
    {
     "name": "stdout",
     "output_type": "stream",
     "text": [
      "Dataframe:\n",
      "               A      B\n",
      "2020  100.000000  100.0\n",
      "2021  103.000000  100.0\n",
      "2022  107.120000  100.0\n",
      "2023  112.476000  100.0\n",
      "2024  119.224560  100.0\n",
      "2025  127.570279  100.0\n",
      "\n",
      "Growth:\n",
      "        A    B\n",
      "2020  NaN  NaN\n",
      "2021  3.0  0.0\n",
      "2022  4.0  0.0\n",
      "2023  5.0  0.0\n",
      "2024  6.0  0.0\n",
      "2025  7.0  0.0\n",
      "\n"
     ]
    }
   ],
   "source": [
    "res =model.update(df,'''\n",
    "# Same number of values as years\n",
    "A =GROWTH  1   / 2021 2025\n",
    "# now we add values  to the growth rate, so the growth rate should be 1 + the number \n",
    "a +growth   2 3 4 5 6 / 2021 2025\n",
    "''')\n",
    "print(f'Dataframe:\\n{res}\\n\\nGrowth:\\n{res.pct_change()*100}\\n')"
   ]
  },
  {
   "cell_type": "markdown",
   "id": "e6a9b1e6",
   "metadata": {},
   "source": [
    "## ^ Set the absolute growth "
   ]
  },
  {
   "cell_type": "code",
   "execution_count": 272,
   "id": "1540ac84",
   "metadata": {},
   "outputs": [
    {
     "data": {
      "text/html": [
       "<div>\n",
       "<style scoped>\n",
       "    .dataframe tbody tr th:only-of-type {\n",
       "        vertical-align: middle;\n",
       "    }\n",
       "\n",
       "    .dataframe tbody tr th {\n",
       "        vertical-align: top;\n",
       "    }\n",
       "\n",
       "    .dataframe thead th {\n",
       "        text-align: right;\n",
       "    }\n",
       "</style>\n",
       "<table border=\"1\" class=\"dataframe\">\n",
       "  <thead>\n",
       "    <tr style=\"text-align: right;\">\n",
       "      <th></th>\n",
       "      <th>A</th>\n",
       "      <th>B</th>\n",
       "      <th>SAME</th>\n",
       "    </tr>\n",
       "  </thead>\n",
       "  <tbody>\n",
       "    <tr>\n",
       "      <th>2020</th>\n",
       "      <td>100.0</td>\n",
       "      <td>100.0</td>\n",
       "      <td>100.0</td>\n",
       "    </tr>\n",
       "    <tr>\n",
       "      <th>2021</th>\n",
       "      <td>102.0</td>\n",
       "      <td>100.0</td>\n",
       "      <td>102.0</td>\n",
       "    </tr>\n",
       "    <tr>\n",
       "      <th>2022</th>\n",
       "      <td>106.0</td>\n",
       "      <td>100.0</td>\n",
       "      <td>104.0</td>\n",
       "    </tr>\n",
       "    <tr>\n",
       "      <th>2023</th>\n",
       "      <td>100.0</td>\n",
       "      <td>100.0</td>\n",
       "      <td>106.0</td>\n",
       "    </tr>\n",
       "    <tr>\n",
       "      <th>2024</th>\n",
       "      <td>100.0</td>\n",
       "      <td>100.0</td>\n",
       "      <td>108.0</td>\n",
       "    </tr>\n",
       "    <tr>\n",
       "      <th>2025</th>\n",
       "      <td>100.0</td>\n",
       "      <td>100.0</td>\n",
       "      <td>110.0</td>\n",
       "    </tr>\n",
       "  </tbody>\n",
       "</table>\n",
       "</div>"
      ],
      "text/plain": [
       "          A      B   SAME\n",
       "2020  100.0  100.0  100.0\n",
       "2021  102.0  100.0  102.0\n",
       "2022  106.0  100.0  104.0\n",
       "2023  100.0  100.0  106.0\n",
       "2024  100.0  100.0  108.0\n",
       "2025  100.0  100.0  110.0"
      ]
     },
     "execution_count": 272,
     "metadata": {},
     "output_type": "execute_result"
    }
   ],
   "source": [
    "model.update(df,'''\n",
    "# Same number of values as years\n",
    "A ^  2 4   / 2021 2022\n",
    "# cv number to all years in between start and end \n",
    "\n",
    "same = 100 /2020\n",
    "same ^ 2 /2021 2025 \n",
    "''')"
   ]
  },
  {
   "cell_type": "markdown",
   "id": "1008cc00",
   "metadata": {},
   "source": [
    "## Setting the time \n",
    "The time is set after the ```/``` as ```start end```\n",
    " - no start and end indicated the whole time range will be updated (**not good for growth updates**) \n",
    " - only start then just this time is updated \n",
    " - start and end, the update is carried on for the interval from start to end, including both "
   ]
  },
  {
   "cell_type": "markdown",
   "id": "74baea9b",
   "metadata": {},
   "source": [
    "## option  --keep_growth, keep the growth rate in the years (or whatever frequency) after the update\n",
    "Sometime the user want to update a variable for a few years but keep the growth rate in the years after at the same level"
   ]
  },
  {
   "cell_type": "code",
   "execution_count": 273,
   "id": "9727ce3b",
   "metadata": {},
   "outputs": [
    {
     "name": "stdout",
     "output_type": "stream",
     "text": [
      "Dataframe:\n",
      "               A      B\n",
      "2020  100.000000  100.0\n",
      "2021  101.000000  100.0\n",
      "2022  103.020000  100.0\n",
      "2023  106.110600  100.0\n",
      "2024  110.355024  100.0\n",
      "2025  115.872775  100.0\n",
      "\n",
      "Growth:\n",
      "        A    B\n",
      "2020  NaN  NaN\n",
      "2021  1.0  0.0\n",
      "2022  2.0  0.0\n",
      "2023  3.0  0.0\n",
      "2024  4.0  0.0\n",
      "2025  5.0  0.0\n",
      "\n"
     ]
    }
   ],
   "source": [
    "# First make a dataframe with some growth rate \n",
    "res = model.update(df,'''\n",
    "a =growth 1 2 3 4 5 /2021 2025\n",
    "''') \n",
    "print(f'Dataframe:\\n{res}\\n\\nGrowth:\\n{res.pct_change()*100}\\n')"
   ]
  },
  {
   "cell_type": "code",
   "execution_count": 274,
   "id": "4c7baf80",
   "metadata": {},
   "outputs": [
    {
     "name": "stdout",
     "output_type": "stream",
     "text": [
      "Dataframe:\n",
      "           A      B\n",
      "2020  100.00  100.0\n",
      "2021  120.00  100.0\n",
      "2022  120.00  100.0\n",
      "2023  120.00  100.0\n",
      "2024  124.80  100.0\n",
      "2025  131.04  100.0\n",
      "\n",
      "Growth:\n",
      "         A    B\n",
      "2020   NaN  NaN\n",
      "2021  20.0  0.0\n",
      "2022   0.0  0.0\n",
      "2023   0.0  0.0\n",
      "2024   4.0  0.0\n",
      "2025   5.0  0.0\n",
      "\n"
     ]
    }
   ],
   "source": [
    "# now update A in 2021 to 2023 to a new value, \n",
    "# and watch how values after 2023 are updated, so the gowth rate after the update is unchanged \n",
    "res = model.update(df,'''\n",
    "a =growth 1 2 3 4 5 /2021 2025\n",
    "a = 120 /2021 2023 --keep_growth\n",
    "''')\n",
    "print(f'Dataframe:\\n{res}\\n\\nGrowth:\\n{res.pct_change()*100}\\n')"
   ]
  },
  {
   "cell_type": "markdown",
   "id": "1ba374fd",
   "metadata": {},
   "source": [
    "## .update(,,scale=\\<number, default=1>) Scale the updates \n",
    "When creating scenarios consistent of several updates it can be useful to be able to create \n",
    "a number of scenarios based on one update but with different scale. For instance scale=0 is the baseline wile scale=0.5 is a scenario half \n",
    "the severity.  "
   ]
  },
  {
   "cell_type": "code",
   "execution_count": 275,
   "id": "6b8bf024",
   "metadata": {},
   "outputs": [
    {
     "name": "stdout",
     "output_type": "stream",
     "text": [
      "input dataframe: \n",
      "          A      B\n",
      "2020  100.0  100.0\n",
      "2021  100.0  100.0\n",
      "2022  100.0  100.0\n",
      "2023  100.0  100.0\n",
      "2024  100.0  100.0\n",
      "2025  100.0  100.0\n",
      "\n",
      "\n",
      "serverity=0\n",
      "Dataframe:\n",
      "          A      B\n",
      "2020  100.0  100.0\n",
      "2021  100.0  100.0\n",
      "2022  100.0  100.0\n",
      "2023  100.0  100.0\n",
      "2024  100.0  100.0\n",
      "2025  100.0  100.0\n",
      "\n",
      "Growth:\n",
      "        A    B\n",
      "2020  NaN  NaN\n",
      "2021  0.0  0.0\n",
      "2022  0.0  0.0\n",
      "2023  0.0  0.0\n",
      "2024  0.0  0.0\n",
      "2025  0.0  0.0\n",
      "\n",
      "\n",
      "serverity=0.5\n",
      "Dataframe:\n",
      "               A      B\n",
      "2020  100.000000  105.0\n",
      "2021  100.500000  105.0\n",
      "2022  101.505000  105.0\n",
      "2023  103.027575  105.0\n",
      "2024  105.088126  105.0\n",
      "2025  107.715330  105.0\n",
      "\n",
      "Growth:\n",
      "        A    B\n",
      "2020  NaN  NaN\n",
      "2021  0.5  0.0\n",
      "2022  1.0  0.0\n",
      "2023  1.5  0.0\n",
      "2024  2.0  0.0\n",
      "2025  2.5  0.0\n",
      "\n",
      "\n",
      "serverity=1\n",
      "Dataframe:\n",
      "               A      B\n",
      "2020  100.000000  110.0\n",
      "2021  101.000000  110.0\n",
      "2022  103.020000  110.0\n",
      "2023  106.110600  110.0\n",
      "2024  110.355024  110.0\n",
      "2025  115.872775  110.0\n",
      "\n",
      "Growth:\n",
      "        A    B\n",
      "2020  NaN  NaN\n",
      "2021  1.0  0.0\n",
      "2022  2.0  0.0\n",
      "2023  3.0  0.0\n",
      "2024  4.0  0.0\n",
      "2025  5.0  0.0\n",
      "\n",
      "\n"
     ]
    }
   ],
   "source": [
    "print(f'input dataframe: \\n{df}\\n\\n')\n",
    "for serverity in [0,0.5,1]: \n",
    "    # First make a dataframe with some growth rate \n",
    "    res = model.update(df,'''\n",
    "    a =growth 1 2 3 4 5 /2021 2025\n",
    "    b + 10\n",
    "    ''',scale=serverity)\n",
    "    print(f'{serverity=}\\nDataframe:\\n{res}\\n\\nGrowth:\\n{res.pct_change()*100}\\n\\n')"
   ]
  },
  {
   "cell_type": "markdown",
   "id": "4ce36e79",
   "metadata": {},
   "source": [
    "## .update(,,lprint=True ) prints the before and after update  \n",
    "When creating scenarios consistent of several updates it can be useful to be able to create \n",
    "a number of scenarios based on one update but with different scale. For instance scale=0 is the baseline wile scale=0.5 is a scenario half \n",
    "the severity.  "
   ]
  },
  {
   "cell_type": "code",
   "execution_count": 276,
   "id": "a189471d",
   "metadata": {},
   "outputs": [
    {
     "name": "stdout",
     "output_type": "stream",
     "text": [
      "Update * [42.0, 44.0] 2021 2022\n",
      "A                    Before                After                 Diff\n",
      "2021               100.0000            4200.0000            4100.0000\n",
      "2022               100.0000            4400.0000            4300.0000\n"
     ]
    },
    {
     "data": {
      "text/html": [
       "<div>\n",
       "<style scoped>\n",
       "    .dataframe tbody tr th:only-of-type {\n",
       "        vertical-align: middle;\n",
       "    }\n",
       "\n",
       "    .dataframe tbody tr th {\n",
       "        vertical-align: top;\n",
       "    }\n",
       "\n",
       "    .dataframe thead th {\n",
       "        text-align: right;\n",
       "    }\n",
       "</style>\n",
       "<table border=\"1\" class=\"dataframe\">\n",
       "  <thead>\n",
       "    <tr style=\"text-align: right;\">\n",
       "      <th></th>\n",
       "      <th>A</th>\n",
       "      <th>B</th>\n",
       "    </tr>\n",
       "  </thead>\n",
       "  <tbody>\n",
       "    <tr>\n",
       "      <th>2020</th>\n",
       "      <td>100.0</td>\n",
       "      <td>100.0</td>\n",
       "    </tr>\n",
       "    <tr>\n",
       "      <th>2021</th>\n",
       "      <td>4200.0</td>\n",
       "      <td>100.0</td>\n",
       "    </tr>\n",
       "    <tr>\n",
       "      <th>2022</th>\n",
       "      <td>4400.0</td>\n",
       "      <td>100.0</td>\n",
       "    </tr>\n",
       "    <tr>\n",
       "      <th>2023</th>\n",
       "      <td>100.0</td>\n",
       "      <td>100.0</td>\n",
       "    </tr>\n",
       "    <tr>\n",
       "      <th>2024</th>\n",
       "      <td>100.0</td>\n",
       "      <td>100.0</td>\n",
       "    </tr>\n",
       "    <tr>\n",
       "      <th>2025</th>\n",
       "      <td>100.0</td>\n",
       "      <td>100.0</td>\n",
       "    </tr>\n",
       "  </tbody>\n",
       "</table>\n",
       "</div>"
      ],
      "text/plain": [
       "           A      B\n",
       "2020   100.0  100.0\n",
       "2021  4200.0  100.0\n",
       "2022  4400.0  100.0\n",
       "2023   100.0  100.0\n",
       "2024   100.0  100.0\n",
       "2025   100.0  100.0"
      ]
     },
     "execution_count": 276,
     "metadata": {},
     "output_type": "execute_result"
    }
   ],
   "source": [
    "model.update(df,'''\n",
    "# Same number of values as years\n",
    "A *  42 44   / 2021 2022\n",
    "''',lprint=1)"
   ]
  },
  {
   "cell_type": "markdown",
   "id": "e03334a4",
   "metadata": {},
   "source": [
    "## The call "
   ]
  },
  {
   "cell_type": "markdown",
   "id": "47781fea",
   "metadata": {},
   "source": [
    "def update(indf, basis, lprint=False,scale = 1.0,create=True,keep_growth=False ):\n",
    "\n",
    "    Args:\n",
    "            indf (TYPE): input dataframe.\n",
    "            basis (TYPE): lines with variable updates look below.\n",
    "            lprint (TYPE, optional): if True each update is printed  Defaults to False.\n",
    "            scale (TYPE, optional): A multiplier used on all update input . Defaults to 1.0.\n",
    "            create (TYPE, optional): Creates a variables if not in the dataframe . Defaults to True.\n",
    "\n",
    "        Returns:\n",
    "            df (TYPE): the updated dataframe .\n",
    "            \n",
    "        An update line looks like this:     \n",
    "            \n",
    "        <var> <=|+|*|%|=growth|+growth|^> <value>... [/ [[start] end] [--keep_growth_rate]]       \n"
   ]
  },
  {
   "cell_type": "code",
   "execution_count": null,
   "id": "59027a55",
   "metadata": {},
   "outputs": [],
   "source": []
  }
 ],
 "metadata": {
  "celltoolbar": "Edit Metadata",
  "hide_input": false,
  "kernelspec": {
   "display_name": "Python 3 (ipykernel)",
   "language": "python",
   "name": "python3"
  },
  "language_info": {
   "codemirror_mode": {
    "name": "ipython",
    "version": 3
   },
   "file_extension": ".py",
   "mimetype": "text/x-python",
   "name": "python",
   "nbconvert_exporter": "python",
   "pygments_lexer": "ipython3",
   "version": "3.8.8"
  },
  "toc": {
   "base_numbering": 1,
   "nav_menu": {},
   "number_sections": true,
   "sideBar": true,
   "skip_h1_title": true,
   "title_cell": "Table of Contents",
   "title_sidebar": "Contents",
   "toc_cell": false,
   "toc_position": {},
   "toc_section_display": true,
   "toc_window_display": false
  }
 },
 "nbformat": 4,
 "nbformat_minor": 5
}
