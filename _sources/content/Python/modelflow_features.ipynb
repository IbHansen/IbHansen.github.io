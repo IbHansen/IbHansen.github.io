{
 "cells": [
  {
   "cell_type": "markdown",
   "metadata": {},
   "source": [
    "<span style='color:Blue'> ORIGINAL </span>\n",
    "\n",
    "# Useful model instance properties and methods\n",
    "The focus of this chapter is to introduce some properties and methods of the model instance.\n",
    "\n",
    "First a model and data is loaded, then a scenario is run. So we have some content to use.\n",
    "\n",
    "A model instance gives the user access to a number of properties and methods which helps in managing the model and its results. \n",
    "\n",
    "If ´´´mmodel´´ is a model instance ```mmodel.<property>``` will return a property. Some properties can also be assigned by the user just by\n",
    ">mmodel.property = something \n",
    "\n",
    "The model class itself also have a few properties. "
   ]
  },
  {
   "cell_type": "markdown",
   "metadata": {},
   "source": [
    "## Import the model class\n",
    "This class incorporates most of the methods used to manage a model.\n",
    "\n",
    "Assuming the ModelFlow library has been installed on your machine, the following imports set up your notebook so that you can run the cells in this notebook.\n",
    "\n",
    "In order to manipulate plots later matplotlib.pyplot is also imported. "
   ]
  },
  {
   "cell_type": "code",
   "execution_count": 1,
   "metadata": {},
   "outputs": [],
   "source": [
    "from modelclass import model "
   ]
  },
  {
   "cell_type": "code",
   "execution_count": 2,
   "metadata": {},
   "outputs": [],
   "source": [
    "import matplotlib.pyplot as plt # "
   ]
  },
  {
   "cell_type": "code",
   "execution_count": 3,
   "metadata": {},
   "outputs": [],
   "source": [
    "# housekeeping for developement \n",
    "%load_ext autoreload   \n",
    "%autoreload 2"
   ]
  },
  {
   "cell_type": "markdown",
   "metadata": {},
   "source": [
    "## Class methods to help in Jupyter Notebook\n",
    "\n"
   ]
  },
  {
   "cell_type": "markdown",
   "metadata": {},
   "source": [
    "### .widescreen() use Jupyter Notebook in widescreen \n",
    "Enables the whole viewing area of the browser."
   ]
  },
  {
   "cell_type": "code",
   "execution_count": 4,
   "metadata": {},
   "outputs": [
    {
     "data": {
      "text/html": [
       "\n",
       "        <style>\n",
       "            div#notebook-container    { width: 95%; }\n",
       "            div#menubar-container     { width: 65%; }\n",
       "            div#maintoolbar-container { width: 99%; }\n",
       "        </style>\n",
       "        "
      ],
      "text/plain": [
       "<IPython.core.display.HTML object>"
      ]
     },
     "metadata": {},
     "output_type": "display_data"
    }
   ],
   "source": [
    "model.widescreen() "
   ]
  },
  {
   "cell_type": "markdown",
   "metadata": {},
   "source": [
    "### .scroll_off() Turn off scroll cells in Jupyter Notebook\n",
    "Can be useful"
   ]
  },
  {
   "cell_type": "markdown",
   "metadata": {},
   "source": [
    "model.scroll_off()"
   ]
  },
  {
   "cell_type": "markdown",
   "metadata": {},
   "source": [
    "## .modelload Load a pre-cooked model, data and descriptions \n",
    "\n",
    "In this notebook, we will be using a pre-existing  model of Pakistan.\n",
    "\n",
    "The file 'pak.pcim' has been created from a Eviews workspace. It contains all that is needed to run the model: \n",
    "\n",
    "- Model equations\n",
    "- Data\n",
    "- Simulation options \n",
    "- Variable descriptions \n",
    "\n",
    "Using the 'modelload' method of the  'model' class, a model instance 'mpak' and a 'result' DataFrame is created.\n"
   ]
  },
  {
   "cell_type": "code",
   "execution_count": 5,
   "metadata": {},
   "outputs": [],
   "source": [
    "mpak,baseline = model.modelload('../models/pak.pcim',run=1,silent=1,keep='Baseline')"
   ]
  },
  {
   "cell_type": "markdown",
   "metadata": {},
   "source": [
    "\n",
    "**mpak** <br> \n",
    "The *modelload* method processes the file and initiates the model, that we call 'mpak' (m for model and pak for Pakistan) with both equations and the data.\n",
    "\n",
    "'mpak' is an instance of the  model object with which we will work.\n",
    "\n",
    "**baseline**  <br> \n",
    "'result' is a Pandas dataframe containing the data that was loaded. This data is also exists inside the model object but can be accessed separately through 'result'.\n",
    "\n",
    "**run=1** the model is simulated. The simulation time and options from the time the file where dumped will used. <br>The two objects **mpak.basedf** and **mpak.lastdf** will contain the simulation result. If run=0 the model will not be simulated. \n",
    "\n",
    "**silent=1** if silent is set to 1 a number of information regarding the simulation will be displayed.\n",
    "\n",
    "**keep='Baseline'** This saves the result in a dictionary mpak.keep_solutions"
   ]
  },
  {
   "cell_type": "markdown",
   "metadata": {},
   "source": [
    "## Create a scenario\n",
    "Many objects relates to comparison of different scenarios. So a scenario is created by updating some exogenous variables.<br>\n",
    "In this case the carbon tax rates for gas, oil and coal are all set to 29 from 2023 to 2100. <br>Then the scenario is simulated. \n",
    "<br>Now the mpak object contains a number of useful properties and methods. \n",
    "\n",
    "You can find more on this experiment [here](../update/create_experiment.ipynb)"
   ]
  },
  {
   "cell_type": "code",
   "execution_count": 6,
   "metadata": {},
   "outputs": [],
   "source": [
    "scenario_exo  =  baseline.upd(\"<2020 2100> PAKGGREVCO2CER PAKGGREVCO2GER PAKGGREVCO2OER = 29\")"
   ]
  },
  {
   "cell_type": "markdown",
   "metadata": {},
   "source": [
    "## () Simulate on a dataframe \n",
    "When calling the model instance like ```mpak(dataframe,start, end)``` the model will be simulated for the time frame ```start to end```using the dataframe  <br>\n",
    "Just above we created a dataframe ``scenario_exo``` where the tax variables are updated. Now the ```mpak``` can be simulated. We simulate from 2020 to 2100. "
   ]
  },
  {
   "cell_type": "code",
   "execution_count": 7,
   "metadata": {},
   "outputs": [],
   "source": [
    "scenario = mpak(scenario_exo,2020,2100,keep=f'Coal, Oil and Gastax : 29') # runs the simulation"
   ]
  },
  {
   "cell_type": "markdown",
   "metadata": {},
   "source": [
    "## Access results \n",
    "\n",
    "Now we have two dataframes with results ```baseline```and ```scenario```. These dataframes can be manipulated and visualized\n",
    "with the tools provided by the **pandas** library and other like **Matplotlib* and **Plotly**. However to make things easy the first and\n",
    "latest simulation result is also in the mpak object:\n",
    "\n",
    "- **mpak.basedf**: Dataframe with the values for baseline\n",
    "- **mpak.lastdf**: Dataframe with the values for alternative  \n",
    "\n",
    "This means that .basedf and .lastdf will contain the same result after the first simulation. <br>\n",
    "If new scenarios are simulated the data in .lastdf will then be replaced with the latest results\n",
    "\n",
    "These dataframes are used by a number of model instance methods as you will see later. \n",
    "\n",
    "The user can assign dataframes to both .basedf and .lastdf. This is useful for comparing simulations which are not the first and last. "
   ]
  },
  {
   "cell_type": "code",
   "execution_count": 8,
   "metadata": {},
   "outputs": [
    {
     "name": "stdout",
     "output_type": "stream",
     "text": [
      "mpak.basedf: Dataframe: with 121 years and 1291 variables\n",
      "mpak.lastdf: Dataframe: with 121 years and 1291 variables\n"
     ]
    }
   ],
   "source": [
    "print(f'mpak.basedf: Dataframe: with {mpak.basedf.shape[0]} years and {mpak.basedf.shape[1]} variables')\n",
    "print(f'mpak.lastdf: Dataframe: with {mpak.lastdf.shape[0]} years and {mpak.lastdf.shape[1]} variables')"
   ]
  },
  {
   "cell_type": "markdown",
   "metadata": {},
   "source": [
    "### .keep_solutions, A dictionary of dataframes with results\n",
    "\n",
    "Create a dictionary of dataframes with .keep_solutions. Sometimes we want to be able to compare more than two scenarios. Using ```keep='some description'``` the dataframe with results can be saved into a dictionary with the description as key and the dataframe as value.  \n",
    "\n",
    "In our example we have created two scenarios. A baseline and a scenario with the tax set to 29. So mpak.keep_solutions looks like this: "
   ]
  },
  {
   "cell_type": "code",
   "execution_count": 13,
   "metadata": {
    "scrolled": false
   },
   "outputs": [
    {
     "name": "stdout",
     "output_type": "stream",
     "text": [
      "mpak.keep_solutions contains:\n",
      "key = Baseline                 |Dataframe: 121 years and 1291 variables\n",
      "key = Coal, Oil and Gastax : 29|Dataframe: 121 years and 1291 variables\n"
     ]
    }
   ],
   "source": [
    "print('mpak.keep_solutions contains:')\n",
    "for key,value in mpak.keep_solutions.items(): \n",
    "    print(f'key = {key:25}|Dataframe: {value.shape[0]} years and {value.shape[1]} variables')"
   ]
  },
  {
   "cell_type": "markdown",
   "metadata": {},
   "source": [
    "Sometime it can be useful to reset the keep_solutions so that new solutions can ve inspected. This is done by replacing it with an empty dictionary. Two ways can be used:  \n",
    ">mpak.keep_solutions = {}\n",
    "\n",
    "or in the simulation call: \n",
    ">mpak(,,keep='')"
   ]
  },
  {
   "cell_type": "markdown",
   "metadata": {},
   "source": [
    "### More on manipulating keep_solution here: <a link > "
   ]
  },
  {
   "cell_type": "markdown",
   "metadata": {},
   "source": [
    "### .oldkwargs Options in the simulation call is persistent between calls \n",
    "When simulating a model the parameters are persistent. So the user just have to provide the \n",
    "solution options once. These persistent parameters are located tin the property .oldkwargs.\n",
    "\n",
    "The user may have to reset the parameters this is done like this: \n",
    "\n",
    "To reset the options just do: \n",
    ">mpak.oldkwargs = {}"
   ]
  },
  {
   "cell_type": "markdown",
   "metadata": {},
   "source": [
    "In this case the persistent parameters are: "
   ]
  },
  {
   "cell_type": "code",
   "execution_count": 10,
   "metadata": {},
   "outputs": [
    {
     "data": {
      "text/plain": [
       "{'silent': 1, 'keep': 'Coal, Oil and Gastax : 29'}"
      ]
     },
     "execution_count": 10,
     "metadata": {},
     "output_type": "execute_result"
    }
   ],
   "source": [
    "mpak.oldkwargs"
   ]
  },
  {
   "cell_type": "markdown",
   "metadata": {},
   "source": [
    "## .current_per, The time frame operations are performed on\n",
    "Most operations on a model class instance operates on the current time frame. \n",
    "It is a subset of the row index of the dataframe which is simulated. \n",
    "\n",
    "In this case it is: "
   ]
  },
  {
   "cell_type": "code",
   "execution_count": 11,
   "metadata": {},
   "outputs": [
    {
     "data": {
      "text/plain": [
       "Int64Index([2020, 2021, 2022, 2023, 2024, 2025, 2026, 2027, 2028, 2029, 2030,\n",
       "            2031, 2032, 2033, 2034, 2035, 2036, 2037, 2038, 2039, 2040, 2041,\n",
       "            2042, 2043, 2044, 2045, 2046, 2047, 2048, 2049, 2050, 2051, 2052,\n",
       "            2053, 2054, 2055, 2056, 2057, 2058, 2059, 2060, 2061, 2062, 2063,\n",
       "            2064, 2065, 2066, 2067, 2068, 2069, 2070, 2071, 2072, 2073, 2074,\n",
       "            2075, 2076, 2077, 2078, 2079, 2080, 2081, 2082, 2083, 2084, 2085,\n",
       "            2086, 2087, 2088, 2089, 2090, 2091, 2092, 2093, 2094, 2095, 2096,\n",
       "            2097, 2098, 2099, 2100],\n",
       "           dtype='int64')"
      ]
     },
     "execution_count": 11,
     "metadata": {},
     "output_type": "execute_result"
    }
   ],
   "source": [
    "mpak.current_per"
   ]
  },
  {
   "cell_type": "code",
   "execution_count": 12,
   "metadata": {},
   "outputs": [
    {
     "ename": "NameError",
     "evalue": "name 'result' is not defined",
     "output_type": "error",
     "traceback": [
      "\u001b[1;31m---------------------------------------------------------------------------\u001b[0m",
      "\u001b[1;31mNameError\u001b[0m                                 Traceback (most recent call last)",
      "Input \u001b[1;32mIn [12]\u001b[0m, in \u001b[0;36m<module>\u001b[1;34m\u001b[0m\n\u001b[1;32m----> 1\u001b[0m \u001b[43mresult\u001b[49m\u001b[38;5;241m.\u001b[39mindex\n",
      "\u001b[1;31mNameError\u001b[0m: name 'result' is not defined"
     ]
    }
   ],
   "source": [
    "result.index  # the index of the dataframe"
   ]
  },
  {
   "cell_type": "markdown",
   "metadata": {},
   "source": [
    "### .smpl, Set time frame \n",
    "The time frame can be set like this"
   ]
  },
  {
   "cell_type": "code",
   "execution_count": null,
   "metadata": {},
   "outputs": [],
   "source": [
    "mpak.smpl(2020,2025)\n",
    "mpak.current_per"
   ]
  },
  {
   "cell_type": "markdown",
   "metadata": {
    "cell_style": "center"
   },
   "source": [
    "### .set_smpl, Set timeframe for a local scope\n",
    "For many operations it can be useful to apply the operations for a shorter time frame, but retain the global time frame after the operation. <br>\n",
    "This can be done  with a ```with``` statement like this. \n",
    "You will see this used here [here](#Contributions-of-variables-to-the-changes-observed)  "
   ]
  },
  {
   "cell_type": "code",
   "execution_count": null,
   "metadata": {},
   "outputs": [],
   "source": [
    "print(f'Global time  before   {mpak.current_per}')\n",
    "with mpak.set_smpl(2022,2023):\n",
    "    print(f'Local time frame      {mpak.current_per}')\n",
    "print(f'Unchanged global time {mpak.current_per}')"
   ]
  },
  {
   "cell_type": "markdown",
   "metadata": {
    "cell_style": "center"
   },
   "source": [
    "### .set_smpl_relative Set relative timeframe for a local scope\n",
    "When creating a script it can be useful to set the time frame relative to the \n",
    "current time. \n",
    "\n",
    "Like this:"
   ]
  },
  {
   "cell_type": "code",
   "execution_count": null,
   "metadata": {},
   "outputs": [],
   "source": [
    "print(f'Global time  before   {mpak.current_per}')\n",
    "with mpak.set_smpl_relative (-1,0):\n",
    "    print(f'Local time frame      {mpak.current_per}')\n",
    "print(f'Unchanged global time {mpak.current_per}')"
   ]
  },
  {
   "cell_type": "markdown",
   "metadata": {},
   "source": [
    "(index-operator)=\n",
    "## Using the index operator to  [ ] to select and visualize variables. \n",
    "The index operator [ ] can be used to select variables and then process the values for quick analysis. \n",
    " \n",
    "To select variables the method accept pattern which defines variable names. Wildcards: \n",
    "- ```\\*``` matches everything\n",
    "- ```?``` matches any single character\n",
    "- ```\\[seq]``` matches any character in seq\n",
    "- ```\\[!seq]``` matches any character not in seq\n",
    "\n",
    "\n",
    "\n",
    "For more on wildcards can be used, the specification can be found here https://docs.python.org/3/library/fnmatch.html\n",
    "\n",
    "\n",
    "In the following example we are selecting the results of mpak['PAKNYGDPMKTPKN']\n",
    "\n",
    "This call will return a special class (called ```vis```). It implements a number \n",
    "of methods and properties which comes in handy for quick analyses. \n",
    "\n",
    "\n",
    "Then several properties and methods are chained with the following plot as a result: "
   ]
  },
  {
   "cell_type": "code",
   "execution_count": null,
   "metadata": {},
   "outputs": [],
   "source": [
    "with mpak.set_smpl(2020,2100):\n",
    "    mpak['PAKNYGDPMKTPKN'].difpctlevel.mul100.rename().plot(colrow=1,\n",
    "                title='Difference to baseline in percent',top=0.8);"
   ]
  },
  {
   "cell_type": "markdown",
   "metadata": {},
   "source": [
    "But first some basic information"
   ]
  },
  {
   "cell_type": "markdown",
   "metadata": {},
   "source": [
    "\n",
    "### model['#ENDO'] \n",
    "\n",
    "Use '#ENDO' to access all endogenous variables in your model instance. \n",
    "\n",
    "For the sake of space, the result is saved in the variable 'allendo' and not printed. "
   ]
  },
  {
   "cell_type": "code",
   "execution_count": null,
   "metadata": {},
   "outputs": [],
   "source": [
    "allendo = mpak['#ENDO']\n",
    "allendo.show"
   ]
  },
  {
   "cell_type": "markdown",
   "metadata": {},
   "source": [
    "### Access values in .lastdf and .basedf\n",
    "\n",
    "To limit the output printed, we set the time frame to 2020 to 2023. "
   ]
  },
  {
   "cell_type": "code",
   "execution_count": null,
   "metadata": {},
   "outputs": [],
   "source": [
    "mpak.smpl(2020,2023);"
   ]
  },
  {
   "cell_type": "markdown",
   "metadata": {},
   "source": [
    "To access the values of 'PAKNYGDPMKTPKN' and 'PAKNECONPRVTKN' from the latest simulation:\n",
    "<span style='color:Blue'> this is correct, right? </span>"
   ]
  },
  {
   "cell_type": "code",
   "execution_count": null,
   "metadata": {},
   "outputs": [],
   "source": [
    "mpak['PAKNYGDPMKTPKN PAKNECONPRVTKN'] "
   ]
  },
  {
   "cell_type": "markdown",
   "metadata": {},
   "source": [
    "To access the values of 'PAKNYGDPMKTPKN' and 'PAKNECONPRVTKN' from the base dataframe, specify .base"
   ]
  },
  {
   "cell_type": "code",
   "execution_count": null,
   "metadata": {},
   "outputs": [],
   "source": [
    "mpak['PAKNYGDPMKTPKN PAKNECONPRVTKN'].base "
   ]
  },
  {
   "cell_type": "markdown",
   "metadata": {},
   "source": [
    "\n",
    "### .df  Pandas dataframe \n",
    "\n",
    "If you need the data to calculate on use the .df\n"
   ]
  },
  {
   "cell_type": "code",
   "execution_count": null,
   "metadata": {},
   "outputs": [],
   "source": [
    "mpak['PAKNYGDPMKTPKN PAKNECONPRVTKN'].df"
   ]
  },
  {
   "cell_type": "markdown",
   "metadata": {},
   "source": [
    "\n",
    "### .show  as a html table with tooltips \n",
    "\n",
    "If you want the variable descriptions use this \n"
   ]
  },
  {
   "cell_type": "code",
   "execution_count": null,
   "metadata": {},
   "outputs": [],
   "source": [
    "mpak['PAKNYGDPMKTPKN PAKNECONPRVTKN'].show"
   ]
  },
  {
   "cell_type": "markdown",
   "metadata": {},
   "source": [
    "### .names Variable names\n",
    "\n",
    "If you select variables using wildcards, then you can access the names that correspond to your query.\n",
    "\n"
   ]
  },
  {
   "cell_type": "code",
   "execution_count": null,
   "metadata": {},
   "outputs": [],
   "source": [
    "mpak['PAKNYGDP??????'].names"
   ]
  },
  {
   "cell_type": "markdown",
   "metadata": {},
   "source": [
    "### .frml The formulas \n",
    "\n",
    "Use .frml to access all the equations for the endogenous variables.  "
   ]
  },
  {
   "cell_type": "code",
   "execution_count": null,
   "metadata": {},
   "outputs": [],
   "source": [
    "mpak['PAKNYGDPMKTPKN PAKNECONPRVTKN'].frml"
   ]
  },
  {
   "cell_type": "markdown",
   "metadata": {},
   "source": [
    "### .rename() Rename variables to descriptions\n",
    "\n",
    "Use .rename() to assign variable descriptions as variable names. \n",
    "\n",
    "Handy when plotting! "
   ]
  },
  {
   "cell_type": "code",
   "execution_count": null,
   "metadata": {},
   "outputs": [],
   "source": [
    "mpak['PAKNYGDPMKTPKN PAKNECONPRVTKN'].rename()"
   ]
  },
  {
   "cell_type": "markdown",
   "metadata": {},
   "source": [
    "### Transformations of solution results \n",
    "\n",
    "When the variables has been selected through the index operator a number of standard data transformations can be performed. "
   ]
  },
  {
   "cell_type": "markdown",
   "metadata": {},
   "source": [
    "|Transfomation|Meaning|expression \n",
    "| :--- | :--- | :----------------------------------------------: |\n",
    "| pct |Growth rates| $\\left(\\cfrac{this_t}{this_{t-1}}-1\\right )$                  |\n",
    "| dif |Difference in level| $l-b$                                            |\n",
    "| difpct| Differens in growth rate|$\\left( \\cfrac{l_t}{l_{t-1}}-1 \\right) - \\left(\\cfrac{b_t}{b_{t-1}}-1 \\right)$\n",
    "| difpctlevel |differens in level in pct of baseline |$\\left( \\cfrac{l_t-b_t}{b_{t}} \\right) $\n",
    "| mul100 | multiply by 100 | $this_t \\times 100$|\n",
    "\n",
    "- $this$ is the chained value. Default lastdf but if preseeded by .base the values from .basedf will be used \n",
    "- $b$ is the values from .basedf\n",
    "- $l$ is the values from .lastdf "
   ]
  },
  {
   "cell_type": "markdown",
   "metadata": {},
   "source": [
    "### .dif Difference in level \n",
    "\n",
    "The 'dif' command displays the difference in levels of the latest and previous solutions.\n",
    "\n",
    "$l-b$\n",
    "\n",
    "where l is the variable from the .lastdf and b is the variable from .basedf.  "
   ]
  },
  {
   "cell_type": "code",
   "execution_count": null,
   "metadata": {
    "scrolled": true
   },
   "outputs": [],
   "source": [
    "mpak['PAKNYGDPMKTPKN PAKNECONPRVTKN'].dif"
   ]
  },
  {
   "cell_type": "markdown",
   "metadata": {},
   "source": [
    "### .pct  Growthrates \n",
    "Display growth rates\n",
    "\n",
    "$\\left(\\cfrac{l_t}{l_{t-1}}-1\\right )$"
   ]
  },
  {
   "cell_type": "code",
   "execution_count": null,
   "metadata": {},
   "outputs": [],
   "source": [
    "mpak['PAKNYGDPMKTPKN PAKNECONPRVTKN'].pct"
   ]
  },
  {
   "cell_type": "markdown",
   "metadata": {},
   "source": [
    "### .difpct property difference in growthrate \n",
    "The difference in the growth rates  between the last and base dataframe.  \n",
    "\n",
    "$\\left( \\cfrac{l_t}{l_{t-1}}-1 \\right) - \\left(\\cfrac{b_t}{b_{t-1}}-1 \\right)$"
   ]
  },
  {
   "cell_type": "code",
   "execution_count": null,
   "metadata": {},
   "outputs": [],
   "source": [
    "mpak['PAKNYGDPMKTPKN PAKNECONPRVTKN'].difpct  "
   ]
  },
  {
   "cell_type": "markdown",
   "metadata": {},
   "source": [
    "### .difpctlevel percent difference of  levels \n",
    "\n",
    "$\\left( \\cfrac{l_t-b_t}{b_{t}} \\right) $"
   ]
  },
  {
   "cell_type": "code",
   "execution_count": null,
   "metadata": {},
   "outputs": [],
   "source": [
    "mpak['PAKNYGDPMKTPKN PAKNECONPRVTKN'].difpctlevel  "
   ]
  },
  {
   "cell_type": "markdown",
   "metadata": {},
   "source": [
    "### mul100 multiply by 100 \n",
    "\n",
    "multiply growth rate by 100. "
   ]
  },
  {
   "cell_type": "code",
   "execution_count": null,
   "metadata": {},
   "outputs": [],
   "source": [
    "mpak['PAKNYGDPMKTPKN PAKNECONPRVTKN'].pct.mul100 "
   ]
  },
  {
   "cell_type": "markdown",
   "metadata": {},
   "source": [
    "## .plot chart the selected and transformed variables\n",
    "After the varaibles has been selected and transformed, they can  be plotted. The .plot() method plots the selected variables separately"
   ]
  },
  {
   "cell_type": "code",
   "execution_count": null,
   "metadata": {},
   "outputs": [],
   "source": [
    "mpak.smpl(2020,2100);\n",
    "\n",
    "mpak['PAKNYGDP??????'].rename().plot();"
   ]
  },
  {
   "cell_type": "markdown",
   "metadata": {},
   "source": [
    "### Options to plot() \n",
    "\n",
    "Common:<br>\n",
    "- title (optional): title. Defaults to ''.\n",
    "- colrow (TYPE, optional): columns per row . Defaults to 2.\n",
    "- sharey (TYPE, optional): Share y axis between plots. Defaults to False.\n",
    "- top (TYPE, optional): relative position of the title. Defaults to 0.90.\n",
    "        \n",
    "        \n",
    "More excotic:<br>         \n",
    "- splitchar (TYPE, optional): if the name should be split . Defaults to '__'.\n",
    "- savefig (TYPE, optional): save figure. Defaults to ''.\n",
    "- xsize  (TYPE, optional): x size default to 10 \n",
    "- ysize  (TYPE, optional): y size per row, defaults to 2\n",
    "- ppos (optional): # of position to use if split. Defaults to -1.\n",
    "- kind (TYPE, optional): matplotlib kind . Defaults to 'line'.\n"
   ]
  },
  {
   "cell_type": "code",
   "execution_count": null,
   "metadata": {},
   "outputs": [],
   "source": [
    "mpak['PAKNYGDP??????'].difpct.mul100.rename().plot(title='GDP growth ',top = 0.92);"
   ]
  },
  {
   "cell_type": "markdown",
   "metadata": {},
   "source": [
    "## Plotting inspiration\n"
   ]
  },
  {
   "cell_type": "markdown",
   "metadata": {},
   "source": [
    "The following graph shows the components of GDP using the values of the baseline dataframe. "
   ]
  },
  {
   "cell_type": "code",
   "execution_count": null,
   "metadata": {},
   "outputs": [],
   "source": [
    "mpak['PAKNYGDPMKTPKN PAKNECONPRVTKN PAKNEGDIFTOTKN'].\\\n",
    "difpctlevel.mul100.rename().\\\n",
    "plot(title='Components of GDP in pct of baseline',colrow=1,top=0.90,kind='bar') ;\n"
   ]
  },
  {
   "cell_type": "markdown",
   "metadata": {},
   "source": [
    "###  Heatmaps\n",
    "\n",
    "For some model types heatmaps can be helpful, and they come out of the box. This feature was developed for use by bank stress test models. "
   ]
  },
  {
   "cell_type": "code",
   "execution_count": null,
   "metadata": {
    "scrolled": false
   },
   "outputs": [],
   "source": [
    "with mpak.set_smpl(2020,2030):\n",
    "    heatmap = mpak['PAKNYGDPMKTPKN PAKNECONPRVTKN'].pct.rename().mul100.heat(title='Growth rates',annot=True,dec=1,size=(10,3))  \n"
   ]
  },
  {
   "cell_type": "markdown",
   "metadata": {},
   "source": [
    "<a id=’With’></a>\n",
    "### Violin, swarm and boxplots, \n",
    "Not obvious for macro models, but useful for stress test  models with many banks. "
   ]
  },
  {
   "cell_type": "code",
   "execution_count": null,
   "metadata": {},
   "outputs": [],
   "source": [
    "with mpak.set_smpl(2020,2030): \n",
    "    mpak['PAKNYGDPMKTPKN PAKNECONPRVTKN'].difpct.box()  \n",
    "    mpak['PAKNYGDPMKTPKN PAKNECONPRVTKN'].difpct.violin()  \n",
    "    mpak['PAKNYGDPMKTPKN PAKNECONPRVTKN'].difpct.swarm()  "
   ]
  },
  {
   "cell_type": "markdown",
   "metadata": {},
   "source": [
    "### Plot baseline vs alternative\n",
    "A raw routine, only showing levels.\n",
    "To make it really useful it should be expanded. "
   ]
  },
  {
   "cell_type": "code",
   "execution_count": null,
   "metadata": {},
   "outputs": [],
   "source": [
    "mpak['PAKNYGDPMKTPKN PAKNECONPRVTKN'].plot_alt() ;"
   ]
  },
  {
   "cell_type": "markdown",
   "metadata": {},
   "source": [
    "<span style='color:Blue'> ORIGINAL </span>\n",
    "\n",
    "\n",
    "## Relationships (dependencies) between variables\n",
    "\n",
    "ModelFlow perform a number of analytical chores, that it can oresent graphically or in tabular form.\n",
    "\n",
    "These inlude presenting the relationships between variables.  In this case, we are displaying all of the vairables that depend directly upon GDP and consumption and those that are determined by them.  Directly because in this example we are only going one step up and backward inthe formulae.\n",
    "\n",
    "The thicker  arrow the more dependent the variable is on the other, ie, it is related to the cobntribution that the variable made to the value of the other."
   ]
  },
  {
   "cell_type": "markdown",
   "metadata": {},
   "source": [
    "\n",
    "## .draw() Graphical presentation of relationships between variables\n",
    "\n",
    ".draw() helps you understand the relationship between variables in your model better. \n",
    " \n",
    "The thicker the arrow the more dependent the variable is on the other."
   ]
  },
  {
   "cell_type": "markdown",
   "metadata": {},
   "source": [
    "### .draw(up = level, down = level)\n",
    "\n",
    "\n",
    "You can specify how many levels up and down you want in your graphical presentation (Needs more explanation).\n",
    "\n",
    "In this example all variables that depend directly upon GDP and consumption as well as those that are determined by them, are displayed. This means one step and one backwards (more explanation).\n"
   ]
  },
  {
   "cell_type": "code",
   "execution_count": null,
   "metadata": {},
   "outputs": [],
   "source": [
    "mpak['PAKNYGDPMKTPKN PAKNECONPRVTKN'].draw(up=1,down=1)  # diagram of all direct dependencies "
   ]
  },
  {
   "cell_type": "markdown",
   "metadata": {},
   "source": [
    "### .draw(filter = minimal_impact)\n",
    "\n",
    "Use filter to only include variables that impact or are impacted by for example 20% \n"
   ]
  },
  {
   "cell_type": "code",
   "execution_count": null,
   "metadata": {
    "scrolled": true
   },
   "outputs": [],
   "source": [
    "mpak['PAKNECONPRVTKN'].draw(up=3,down=1,filter=20)  "
   ]
  },
  {
   "cell_type": "markdown",
   "metadata": {},
   "source": [
    "\n",
    "\n",
    "## dekomp() Contribution of variables to observed change\n",
    "\n",
    "The dekomp command decomposes the contributions of the right hand side variables to the observed change in the left hand side variables. \n",
    "\n",
    "In the example below, from our simulation imposing a carbon tax, the change in consumption demand had a large impact on GDP. 280% of the total in 2023 (third set of results), while government consumption contributed 24% and investment 16%.\n",
    "\n",
    "Imports had a strong negative contribution of -227% since much of the increase in consumption, investment and government demand was imported. "
   ]
  },
  {
   "cell_type": "code",
   "execution_count": null,
   "metadata": {
    "scrolled": false
   },
   "outputs": [],
   "source": [
    "with mpak.set_smpl(2021,2025):\n",
    "    mpak['PAKNYGDPMKTPKN PAKNECONPRVTKN'].dekomp()  # frml attribution "
   ]
  },
  {
   "cell_type": "markdown",
   "metadata": {},
   "source": [
    "## Bespoken plots using matplotlib  (or plotly -later) (should go to a separate plot book \n",
    "\n",
    "The predefined plots are not necessary created for presentation purpose. To create  bespoken the the plots can be \n",
    "constructed directly in python scripts. The two main libraries are matplotlib and plotly. "
   ]
  },
  {
   "cell_type": "markdown",
   "metadata": {},
   "source": [
    "## a simple matplotlib plot"
   ]
  },
  {
   "cell_type": "code",
   "execution_count": null,
   "metadata": {},
   "outputs": [],
   "source": [
    "\n",
    "# first we call our baseline df for 'base' and the last dataframe for alt (which means everything in Danish)\n",
    "base = mpak.basedf\n",
    "alt = mpak.lastdf\n",
    "\n",
    "# The plot \n",
    "plt.plot(mpak.basedf.loc[2000:2099,'PAKGGBALOVRLCN']/mpak.basedf.loc[2000:2099,'PAKNYGDPMKTPCN']*100,label='Baseline')\n",
    "plt.plot(mpak.lastdf.loc[2000:2099,'PAKGGBALOVRLCN_'],label='Carbon Tax scenario')\n",
    "  \n",
    "# Setting the y and x labels, legend and title \n",
    "# set y label\n",
    "plt.ylabel('% of GDP')\n",
    "plt.xlabel('Time')\n",
    "plt.legend()  \n",
    "plt.title('Overall Fiscal balance')\n",
    "  \n",
    "# display plot\n",
    "plt.show()\n",
    "\n",
    "\n"
   ]
  },
  {
   "cell_type": "markdown",
   "metadata": {},
   "source": [
    "## Plot four separate plots of multiple series in grid"
   ]
  },
  {
   "cell_type": "code",
   "execution_count": null,
   "metadata": {},
   "outputs": [],
   "source": [
    "figure,axs= plt.subplots(2,2,figsize=(11, 7))\n",
    "axs[0,0].plot(mpak.basedf.loc[2020:2099,'PAKGGBALOVRLCN_'],label='Baseline')\n",
    "axs[0,0].plot(mpak.lastdf.loc[2020:2099,'PAKGGBALOVRLCN_'],label='Scenario')\n",
    "#axs[0,0].legend()\n",
    "\n",
    "axs[0,1].plot(mpak.basedf.loc[2020:2099,'PAKGGDBTTOTLCN_'],label='Baseline')\n",
    "axs[0,1].plot(mpak.lastdf.loc[2020:2099,'PAKGGDBTTOTLCN_'],label='Scenario')\n",
    "\n",
    "axs[1,0].plot(mpak.basedf.loc[2020:2099,'PAKGGREVTOTLCN']/mpak.basedf.loc[2020:2099,'PAKNYGDPMKTPCN']*100,label='Baseline')\n",
    "axs[1,0].plot(mpak.lastdf.loc[2020:2099,'PAKGGREVTOTLCN']/mpak.lastdf.loc[2020:2099,'PAKNYGDPMKTPCN']*100,label='Scenario')\n",
    "\n",
    "axs[1,1].plot(mpak.basedf.loc[2020:2099,'PAKGGREVGRNTCN']/mpak.basedf.loc[2020:2099,'PAKNYGDPMKTPCN']*100,label='Baseline')\n",
    "axs[1,1].plot(mpak.lastdf.loc[2020:2099,'PAKGGREVGRNTCN']/mpak.lastdf.loc[2020:2099,'PAKNYGDPMKTPCN']*100,label='Scenario')\n",
    "#axs2[4].plot(mpak.lastdf.loc[2000:2099,'PAKGGREVGRNTCN']/mpak.basedf.loc[2000:2099,'PAKNYGDPMKTPCN']*100,label='Scenario')\n",
    "\n",
    "axs[0,0].title.set_text(\"Fiscal balance (% of GDP)\")\n",
    "axs[0,1].title.set_text(\"Gov't Debt (% of GDP)\")\n",
    "axs[1,0].title.set_text(\"Total revenues (% of GDP)\")\n",
    "axs[1,1].title.set_text(\"Grant Revenues (% of GDP)\")\n",
    "figure.suptitle(\"Fiscal outcomes\")\n",
    "\n",
    "plt.figlegend(['Baseline','Scenario'],loc='lower left',ncol=5)  \n",
    "figure.tight_layout(pad=2.3) #Ensures legend does not overlap dates\n"
   ]
  },
  {
   "cell_type": "code",
   "execution_count": null,
   "metadata": {},
   "outputs": [],
   "source": []
  }
 ],
 "metadata": {
  "hide_input": false,
  "kernelspec": {
   "display_name": "Python 3 (ipykernel)",
   "language": "python",
   "name": "python3"
  },
  "language_info": {
   "codemirror_mode": {
    "name": "ipython",
    "version": 3
   },
   "file_extension": ".py",
   "mimetype": "text/x-python",
   "name": "python",
   "nbconvert_exporter": "python",
   "pygments_lexer": "ipython3",
   "version": "3.9.9"
  },
  "toc": {
   "base_numbering": 1,
   "nav_menu": {},
   "number_sections": true,
   "sideBar": true,
   "skip_h1_title": false,
   "title_cell": "Table of Contents",
   "title_sidebar": "Contents",
   "toc_cell": false,
   "toc_position": {
    "height": "calc(100% - 180px)",
    "left": "10px",
    "top": "150px",
    "width": "304.625px"
   },
   "toc_section_display": true,
   "toc_window_display": false
  },
  "varInspector": {
   "cols": {
    "lenName": 16,
    "lenType": 16,
    "lenVar": 40
   },
   "kernels_config": {
    "python": {
     "delete_cmd_postfix": "",
     "delete_cmd_prefix": "del ",
     "library": "var_list.py",
     "varRefreshCmd": "print(var_dic_list())"
    },
    "r": {
     "delete_cmd_postfix": ") ",
     "delete_cmd_prefix": "rm(",
     "library": "var_list.r",
     "varRefreshCmd": "cat(var_dic_list()) "
    }
   },
   "types_to_exclude": [
    "module",
    "function",
    "builtin_function_or_method",
    "instance",
    "_Feature"
   ],
   "window_display": false
  }
 },
 "nbformat": 4,
 "nbformat_minor": 2
}
