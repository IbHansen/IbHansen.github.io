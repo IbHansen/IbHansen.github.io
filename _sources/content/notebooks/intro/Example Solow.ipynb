{
 "cells": [
  {
   "cell_type": "markdown",
   "id": "9f2e2785",
   "metadata": {
    "slideshow": {
     "slide_type": "slide"
    }
   },
   "source": [
    "# Example Solow model \n",
    "\n",
    "\n",
    "In this jupyter notebook we will specify, solve and analyse a simple Solow model in ModelFlow. \n",
    "    "
   ]
  },
  {
   "cell_type": "code",
   "execution_count": 1,
   "id": "e7c70d96",
   "metadata": {
    "slideshow": {
     "slide_type": "slide"
    }
   },
   "outputs": [
    {
     "data": {
      "text/html": [
       "\n",
       "        <style>\n",
       "            div#notebook-container    { width: 95%; }\n",
       "            div#menubar-container     { width: 65%; }\n",
       "            div#maintoolbar-container { width: 99%; }\n",
       "        </style>\n",
       "        "
      ],
      "text/plain": [
       "<IPython.core.display.HTML object>"
      ]
     },
     "metadata": {},
     "output_type": "display_data"
    }
   ],
   "source": [
    "#Required packages\n",
    "import pandas as pd\n",
    "\n",
    "# Modelflow modules\n",
    "from modelclass import model\n",
    "   \n",
    "#for publication \n",
    "latex=0\n",
    "model.widescreen()"
   ]
  },
  {
   "cell_type": "markdown",
   "id": "b6b5050f",
   "metadata": {
    "slideshow": {
     "slide_type": "slide"
    }
   },
   "source": [
    "\n",
    "## Specify the model \n",
    "We start by defining the logic of the Solow model in the Business Logic Language.   \n",
    "\n"
   ]
  },
  {
   "cell_type": "markdown",
   "id": "b7d6df29",
   "metadata": {
    "slideshow": {
     "slide_type": "skip"
    }
   },
   "source": [
    ":::{margin} **Business Logic Language**\n",
    "More on how to specify models [here](../intro/model%20specification.ipynb)\n",
    ":::"
   ]
  },
  {
   "cell_type": "code",
   "execution_count": 10,
   "id": "a1dd5bf9",
   "metadata": {
    "slideshow": {
     "slide_type": "fragment"
    }
   },
   "outputs": [],
   "source": [
    "\n",
    "fsolow = '''\\\n",
    "Income          = a  * Capital**alfa * Labor **(1-alfa) \n",
    "Consumption     = (1-saving_rate)  * Income \n",
    "Investment      = Income - Consumption \n",
    "diff(Capital)   = Investment-Depreciation_rate * Capital(-1)\n",
    "diff(Labor)     = Labor_growth * Labor(-1)/log(-42) \n",
    "Capital_intensity = Capital/Labor \n",
    "'''"
   ]
  },
  {
   "cell_type": "markdown",
   "id": "6ab7bf46",
   "metadata": {
    "slideshow": {
     "slide_type": "slide"
    }
   },
   "source": [
    "## Create a model class instance\n",
    "\n",
    "After defining the Business Logic Language and storing it in the variable 'fsolow', we create a class instance called msolow. "
   ]
  },
  {
   "cell_type": "code",
   "execution_count": 11,
   "id": "67f4a348",
   "metadata": {
    "slideshow": {
     "slide_type": "fragment"
    }
   },
   "outputs": [],
   "source": [
    "msolow = model.from_eq(fsolow,modelname='Solow model')"
   ]
  },
  {
   "cell_type": "markdown",
   "id": "062209f4",
   "metadata": {
    "slideshow": {
     "slide_type": "slide"
    }
   },
   "source": [
    "Above the equation for Capital and Labor on the left hand side of the = (equal to) consist of an expressing ```diff(Capital)``` and ```diff(Labor)```. **The equations are not normalized**. \n",
    "\n",
    "To solve a model in modelflow **all equations has to be normalized**. Meaning that the left hand side only consist of variables not expressions. So the function ```model.from_eq``` will normalize the equations as the first step before the model can be solved. \n",
    "\n",
    "In this case **first** ```diff(Capital)``` is transformed to $\\Delta capital = capital-capital(-1)$. **Then** the lagged variables is moved to the right side of the =. \n",
    " The same goes for diff(labor).\n",
    " \n",
    "So the normalized business language of the model now looks like:"
   ]
  },
  {
   "cell_type": "code",
   "execution_count": 12,
   "id": "62242f27",
   "metadata": {
    "slideshow": {
     "slide_type": "slide"
    }
   },
   "outputs": [
    {
     "name": "stdout",
     "output_type": "stream",
     "text": [
      "FRML <> INCOME          = A  * CAPITAL**ALFA * LABOR **(1-ALFA)  $\n",
      "FRML <> CONSUMPTION     = (1-SAVING_RATE)  * INCOME  $\n",
      "FRML <> INVESTMENT      = INCOME - CONSUMPTION  $\n",
      "FRML <> CAPITAL=CAPITAL(-1)+(INVESTMENT-DEPRECIATION_RATE * CAPITAL(-1))$\n",
      "FRML <> LABOR=LABOR(-1)+(LABOR_GROWTH * LABOR(-1)/LOG(-42))$\n",
      "FRML <> CAPITAL_INTENSITY = CAPITAL/LABOR  $\n"
     ]
    }
   ],
   "source": [
    "msolow.print_model"
   ]
  },
  {
   "cell_type": "markdown",
   "id": "3e9ab796",
   "metadata": {
    "slideshow": {
     "slide_type": "slide"
    }
   },
   "source": [
    "## Create some data \n",
    "\n",
    "To show what Modelflow can do, we create a Pandas dataframe with input data. And print the first 5 out of 300 observations.  "
   ]
  },
  {
   "cell_type": "code",
   "execution_count": 13,
   "id": "286fe002",
   "metadata": {
    "slideshow": {
     "slide_type": "fragment"
    }
   },
   "outputs": [
    {
     "data": {
      "text/html": [
       "<div>\n",
       "<style scoped>\n",
       "    .dataframe tbody tr th:only-of-type {\n",
       "        vertical-align: middle;\n",
       "    }\n",
       "\n",
       "    .dataframe tbody tr th {\n",
       "        vertical-align: top;\n",
       "    }\n",
       "\n",
       "    .dataframe thead th {\n",
       "        text-align: right;\n",
       "    }\n",
       "</style>\n",
       "<table border=\"1\" class=\"dataframe\">\n",
       "  <thead>\n",
       "    <tr style=\"text-align: right;\">\n",
       "      <th></th>\n",
       "      <th>LABOR</th>\n",
       "      <th>CAPITAL</th>\n",
       "      <th>ALFA</th>\n",
       "      <th>A</th>\n",
       "      <th>DEPRECIATION_RATE</th>\n",
       "      <th>LABOR_GROWTH</th>\n",
       "      <th>SAVING_RATE</th>\n",
       "    </tr>\n",
       "  </thead>\n",
       "  <tbody>\n",
       "    <tr>\n",
       "      <th>0</th>\n",
       "      <td>100</td>\n",
       "      <td>100</td>\n",
       "      <td>0.5</td>\n",
       "      <td>1</td>\n",
       "      <td>0.05</td>\n",
       "      <td>0.01</td>\n",
       "      <td>0.05</td>\n",
       "    </tr>\n",
       "    <tr>\n",
       "      <th>1</th>\n",
       "      <td>100</td>\n",
       "      <td>100</td>\n",
       "      <td>0.5</td>\n",
       "      <td>1</td>\n",
       "      <td>0.05</td>\n",
       "      <td>0.01</td>\n",
       "      <td>0.05</td>\n",
       "    </tr>\n",
       "  </tbody>\n",
       "</table>\n",
       "</div>"
      ],
      "text/plain": [
       "   LABOR  CAPITAL  ALFA  A  DEPRECIATION_RATE  LABOR_GROWTH  SAVING_RATE\n",
       "0    100      100   0.5  1               0.05          0.01         0.05\n",
       "1    100      100   0.5  1               0.05          0.01         0.05"
      ]
     },
     "execution_count": 13,
     "metadata": {},
     "output_type": "execute_result"
    }
   ],
   "source": [
    "N = 300  \n",
    "df = pd.DataFrame({'LABOR':[100]*N,\n",
    "                   'CAPITAL':[100]*N, \n",
    "                   'ALFA':[0.5]*N, \n",
    "                   'A': [1]*N, \n",
    "                   'DEPRECIATION_RATE': [0.05]*N, \n",
    "                   'LABOR_GROWTH': [0.01]*N, \n",
    "                   'SAVING_RATE':[0.05]*N})\n",
    "df.head(2) #this prints out the first 5 rows of the dataframe"
   ]
  },
  {
   "cell_type": "markdown",
   "id": "4e86e552",
   "metadata": {
    "slideshow": {
     "slide_type": "slide"
    }
   },
   "source": [
    "## Run the model "
   ]
  },
  {
   "cell_type": "code",
   "execution_count": 14,
   "id": "dfc57421",
   "metadata": {
    "scrolled": false
   },
   "outputs": [
    {
     "name": "stdout",
     "output_type": "stream",
     "text": [
      ">> Error in     : Solow model\n",
      ">> In           : 1\n",
      ">> varposition   : 0\n",
      ">> Equation     : FRML <> LABOR=LABOR(-1)+(LABOR_GROWTH * LABOR(-1)/LOG(-42))$\n",
      "A snapshot of the data at the error point is at .errdump \n",
      "Also the .lastdf contains .errdump,  for inspecting \n",
      "\n",
      "Calculations of LABOR \n",
      "FRML <> LABOR=LABOR(-1)+(LABOR_GROWTH * LABOR(-1)/LOG(-42))$\n",
      "\n",
      "Looking at period:1\n",
      "LABOR        =                100.0\n",
      "LABOR(-1)    =                100.0\n",
      "LABOR_GROWTH =                 0.01\n"
     ]
    },
    {
     "ename": "ValueError",
     "evalue": "math domain error",
     "output_type": "error",
     "traceback": [
      "\u001b[1;31m---------------------------------------------------------------------------\u001b[0m",
      "\u001b[1;31mValueError\u001b[0m                                Traceback (most recent call last)",
      "\u001b[1;32m~\\AppData\\Local\\Temp/ipykernel_16244/1264215780.py\u001b[0m in \u001b[0;36m<module>\u001b[1;34m\u001b[0m\n\u001b[1;32m----> 1\u001b[1;33m \u001b[0mresult\u001b[0m \u001b[1;33m=\u001b[0m \u001b[0mmsolow\u001b[0m\u001b[1;33m(\u001b[0m\u001b[0mdf\u001b[0m\u001b[1;33m,\u001b[0m\u001b[0mkeep\u001b[0m\u001b[1;33m=\u001b[0m\u001b[1;34m'Baseline'\u001b[0m\u001b[1;33m)\u001b[0m \u001b[1;31m# The model is simulated for all years possible\u001b[0m\u001b[1;33m\u001b[0m\u001b[1;33m\u001b[0m\u001b[0m\n\u001b[0m\u001b[0;32m      2\u001b[0m \u001b[0mresult\u001b[0m\u001b[1;33m.\u001b[0m\u001b[0mhead\u001b[0m\u001b[1;33m(\u001b[0m\u001b[1;36m29\u001b[0m\u001b[1;33m)\u001b[0m\u001b[1;33m\u001b[0m\u001b[1;33m\u001b[0m\u001b[0m\n",
      "\u001b[1;32mC:\\modelflow2\\modelflow\\modelclass.py\u001b[0m in \u001b[0;36m__call__\u001b[1;34m(self, *args, **kwargs)\u001b[0m\n\u001b[0;32m   4752\u001b[0m         \u001b[1;31m# print(f'solver:{solver},solverkwargs:{newkwargs}')\u001b[0m\u001b[1;33m\u001b[0m\u001b[1;33m\u001b[0m\u001b[1;33m\u001b[0m\u001b[0m\n\u001b[0;32m   4753\u001b[0m         \u001b[1;31m# breakpoint()\u001b[0m\u001b[1;33m\u001b[0m\u001b[1;33m\u001b[0m\u001b[1;33m\u001b[0m\u001b[0m\n\u001b[1;32m-> 4754\u001b[1;33m         \u001b[0moutdf\u001b[0m \u001b[1;33m=\u001b[0m \u001b[0mself\u001b[0m\u001b[1;33m.\u001b[0m\u001b[0mmodel_solver\u001b[0m\u001b[1;33m(\u001b[0m\u001b[1;33m*\u001b[0m\u001b[0margs\u001b[0m\u001b[1;33m,\u001b[0m \u001b[1;33m**\u001b[0m\u001b[0mnewkwargs\u001b[0m\u001b[1;33m)\u001b[0m\u001b[1;33m\u001b[0m\u001b[1;33m\u001b[0m\u001b[0m\n\u001b[0m\u001b[0;32m   4755\u001b[0m \u001b[1;33m\u001b[0m\u001b[0m\n\u001b[0;32m   4756\u001b[0m \u001b[1;33m\u001b[0m\u001b[0m\n",
      "\u001b[1;32mC:\\modelflow2\\modelflow\\modelclass.py\u001b[0m in \u001b[0;36msim\u001b[1;34m(self, databank, start, slut, silent, samedata, alfa, stats, first_test, max_iterations, conv, absconv, relconv, stringjit, transpile_reset, dumpvar, init, ldumpvar, dumpwith, dumpdecimal, chunk, ljit, timeon, fairopt, progressbar, **kwargs)\u001b[0m\n\u001b[0;32m   5035\u001b[0m                             \u001b[0mvalues\u001b[0m\u001b[1;33m[\u001b[0m\u001b[0mrow\u001b[0m\u001b[1;33m,\u001b[0m \u001b[0mc\u001b[0m\u001b[1;33m]\u001b[0m \u001b[1;33m=\u001b[0m \u001b[0mvalues\u001b[0m\u001b[1;33m[\u001b[0m\u001b[0mrow\u001b[0m\u001b[1;33m-\u001b[0m\u001b[1;36m1\u001b[0m\u001b[1;33m,\u001b[0m \u001b[0mc\u001b[0m\u001b[1;33m]\u001b[0m\u001b[1;33m\u001b[0m\u001b[1;33m\u001b[0m\u001b[0m\n\u001b[0;32m   5036\u001b[0m                     \u001b[0mitbefore\u001b[0m \u001b[1;33m=\u001b[0m \u001b[0mvalues\u001b[0m\u001b[1;33m[\u001b[0m\u001b[0mrow\u001b[0m\u001b[1;33m,\u001b[0m \u001b[0mconvplace\u001b[0m\u001b[1;33m]\u001b[0m\u001b[1;33m\u001b[0m\u001b[1;33m\u001b[0m\u001b[0m\n\u001b[1;32m-> 5037\u001b[1;33m                     \u001b[0mself\u001b[0m\u001b[1;33m.\u001b[0m\u001b[0mpro2d\u001b[0m\u001b[1;33m(\u001b[0m\u001b[0mvalues\u001b[0m\u001b[1;33m,\u001b[0m \u001b[0mvalues\u001b[0m\u001b[1;33m,\u001b[0m  \u001b[0mrow\u001b[0m\u001b[1;33m,\u001b[0m  \u001b[1;36m1.0\u001b[0m\u001b[1;33m)\u001b[0m\u001b[1;33m\u001b[0m\u001b[1;33m\u001b[0m\u001b[0m\n\u001b[0m\u001b[0;32m   5038\u001b[0m                     \u001b[1;32mfor\u001b[0m \u001b[0miteration\u001b[0m \u001b[1;32min\u001b[0m \u001b[0mrange\u001b[0m\u001b[1;33m(\u001b[0m\u001b[0mmax_iterations\u001b[0m\u001b[1;33m)\u001b[0m\u001b[1;33m:\u001b[0m\u001b[1;33m\u001b[0m\u001b[1;33m\u001b[0m\u001b[0m\n\u001b[0;32m   5039\u001b[0m                         \u001b[1;32mwith\u001b[0m \u001b[0mself\u001b[0m\u001b[1;33m.\u001b[0m\u001b[0mtimer\u001b[0m\u001b[1;33m(\u001b[0m\u001b[1;34mf'Evaluate {self.periode}/{iteration} '\u001b[0m\u001b[1;33m,\u001b[0m \u001b[0mtimeon\u001b[0m\u001b[1;33m)\u001b[0m \u001b[1;32mas\u001b[0m \u001b[0mt\u001b[0m\u001b[1;33m:\u001b[0m\u001b[1;33m\u001b[0m\u001b[1;33m\u001b[0m\u001b[0m\n",
      "\u001b[1;32mC:\\modelflow2\\modelflow\\modelclass.py\u001b[0m in \u001b[0;36mprolog\u001b[1;34m(values, outvalues, row, alfa)\u001b[0m\n",
      "\u001b[1;32mC:\\modelflow2\\modelflow\\modelclass.py\u001b[0m in \u001b[0;36mprolog0\u001b[1;34m(values, outvalues, row, alfa)\u001b[0m\n",
      "\u001b[1;31mValueError\u001b[0m: math domain error"
     ]
    }
   ],
   "source": [
    "result = msolow(df,keep='Baseline') # The model is simulated for all years possible \n",
    "result.head(29)"
   ]
  },
  {
   "cell_type": "markdown",
   "id": "71b35854",
   "metadata": {
    "slideshow": {
     "slide_type": "slide"
    }
   },
   "source": [
    "## Create a scenario and run again "
   ]
  },
  {
   "cell_type": "markdown",
   "id": "c213cb44",
   "metadata": {
    "slideshow": {
     "slide_type": "skip"
    }
   },
   "source": [
    ":::{margin} **dataframe.upd**\n",
    "When importing modelclass all pandas dataframes are enriched with a a handy way to create a new pandas dataframe with updated series. \n",
    "\n",
    "In this case df.upd will create a a new dataframe with updated LABOR_GROWTH \n",
    "\n",
    "For additional explanation look [here](../../howto/update/model%20update.ipynb)\n",
    ":::"
   ]
  },
  {
   "cell_type": "code",
   "execution_count": 7,
   "id": "635b1c17",
   "metadata": {
    "slideshow": {
     "slide_type": "fragment"
    }
   },
   "outputs": [],
   "source": [
    "dfscenario = df.upd('LABOR_GROWTH + 0.002')  # create a new dataframe, increase LABOR_GROWTH by 0.002\n",
    "scenario   = msolow(dfscenario,keep='Higher labor growth ') # simulate the model "
   ]
  },
  {
   "cell_type": "markdown",
   "id": "93220ba9",
   "metadata": {
    "slideshow": {
     "slide_type": "slide"
    }
   },
   "source": [
    "## Now the results are also embedded in msolow.  \n",
    "\n",
    "\n",
    " - ```.basedf``` contains the first run of the model \n",
    " - ```.lastdf``` contains the last run of the model \n",
    " \n",
    " Also in this case the keyword ```keep``` is used. This causes the results to be  stored in a dictionary ```msolow.keep_solutions```. This can be useful when comparing several scenarios. \n",
    " "
   ]
  },
  {
   "cell_type": "markdown",
   "id": "286a2013",
   "metadata": {
    "slideshow": {
     "slide_type": "slide"
    }
   },
   "source": [
    "## Inspect results  "
   ]
  },
  {
   "cell_type": "markdown",
   "id": "97c89420",
   "metadata": {
    "slideshow": {
     "slide_type": "fragment"
    }
   },
   "source": [
    "### Using the [ ] operator "
   ]
  },
  {
   "cell_type": "markdown",
   "id": "b8919dd3",
   "metadata": {
    "slideshow": {
     "slide_type": "fragment"
    }
   },
   "source": [
    "We can select the variables of interest with wildcards. This will operate the results stored in ```basedf``` and ```.lastdf```"
   ]
  },
  {
   "cell_type": "markdown",
   "id": "6d08b713",
   "metadata": {
    "slideshow": {
     "slide_type": "skip"
    }
   },
   "source": [
    "#### Look at variables starting with a C "
   ]
  },
  {
   "cell_type": "code",
   "execution_count": 8,
   "id": "66dcf8a2",
   "metadata": {
    "slideshow": {
     "slide_type": "skip"
    }
   },
   "outputs": [
    {
     "data": {
      "application/vnd.jupyter.widget-view+json": {
       "model_id": "e7feb2e505ae4fe4b25fd24c138ee378",
       "version_major": 2,
       "version_minor": 0
      },
      "text/plain": [
       "Tab(children=(Tab(children=(HTML(value='<?xml version=\"1.0\" encoding=\"utf-8\" standalone=\"no\"?>\\n<!DOCTYPE svg …"
      ]
     },
     "metadata": {},
     "output_type": "display_data"
    },
    {
     "data": {
      "text/html": [],
      "text/plain": []
     },
     "execution_count": 8,
     "metadata": {},
     "output_type": "execute_result"
    }
   ],
   "source": [
    "msolow['#ENDO']"
   ]
  },
  {
   "cell_type": "markdown",
   "id": "a00c9c3f",
   "metadata": {
    "slideshow": {
     "slide_type": "slide"
    }
   },
   "source": [
    "#### Look at all endogenous variables"
   ]
  },
  {
   "cell_type": "code",
   "execution_count": 9,
   "id": "15c25aa2",
   "metadata": {},
   "outputs": [
    {
     "data": {
      "image/png": "[encoded data removed]",
      "text/plain": [
       "<Figure size 720x144 with 2 Axes>"
      ]
     },
     "execution_count": 9,
     "metadata": {},
     "output_type": "execute_result"
    },
    {
     "data": {
      "image/png": "[encoded data removed]",
      "text/plain": [
       "<Figure size 720x144 with 2 Axes>"
      ]
     },
     "metadata": {
      "needs_background": "light"
     },
     "output_type": "display_data"
    }
   ],
   "source": [
    "msolow['labor*'].dif.plot() "
   ]
  },
  {
   "cell_type": "markdown",
   "id": "019b6732",
   "metadata": {
    "slideshow": {
     "slide_type": "slide"
    }
   },
   "source": [
    "### Using the keept solutions \n",
    "As mentioned above, because the keyword ```keep``` was used. The results are also stored in a dictionary. These data can \n",
    "also be used for charting. \n",
    "\n",
    "The reason for placing the results in a dictionary is to enable comparison of many scenarios, not just the first and the last. "
   ]
  },
  {
   "cell_type": "code",
   "execution_count": 10,
   "id": "0134a940",
   "metadata": {
    "scrolled": false,
    "slideshow": {
     "slide_type": "subslide"
    }
   },
   "outputs": [
    {
     "data": {
      "image/png": "[encoded data removed]",
      "text/plain": [
       "<Figure size 720x432 with 1 Axes>"
      ]
     },
     "metadata": {
      "needs_background": "light"
     },
     "output_type": "display_data"
    },
    {
     "data": {
      "image/png": "[encoded data removed]",
      "text/plain": [
       "<Figure size 720x432 with 1 Axes>"
      ]
     },
     "metadata": {
      "needs_background": "light"
     },
     "output_type": "display_data"
    }
   ],
   "source": [
    "with msolow.set_smpl(1,30):\n",
    "    msolow.keep_plot('income con*' ); "
   ]
  },
  {
   "cell_type": "code",
   "execution_count": 11,
   "id": "9e61d20f",
   "metadata": {},
   "outputs": [
    {
     "name": "stdout",
     "output_type": "stream",
     "text": [
      "apprun\n",
      "Dash app running on http://127.0.0.1:5001/\n"
     ]
    },
    {
     "data": {
      "text/plain": [
       "Dash_graph(mmodel=<\n",
       "Model name                              :          Solow model \n",
       "Model structure                         :         Simultaneous \n",
       "Number of variables                     :                   11 \n",
       "Number of exogeneous  variables         :                    5 \n",
       "Number of endogeneous variables         :                    6 \n",
       ">, pre_var='INCOME', filter=0, up=1, down=0, time_att=False, attshow=False, all=False, dashport=5001, debug=False, jupyter=1, show_trigger=False, inline=False, lag=False, threshold=0.5, growthshow=False)"
      ]
     },
     "execution_count": 11,
     "metadata": {},
     "output_type": "execute_result"
    }
   ],
   "source": [
    "msolow.modeldash('INCOME',jupyter=1)"
   ]
  },
  {
   "cell_type": "markdown",
   "id": "ee8c5e59",
   "metadata": {
    "cell_style": "center",
    "slideshow": {
     "slide_type": "slide"
    }
   },
   "source": [
    "## More advanced topics"
   ]
  },
  {
   "cell_type": "markdown",
   "id": "c9480e97",
   "metadata": {
    "slideshow": {
     "slide_type": "subslide"
    }
   },
   "source": [
    "### The logical stucture \n",
    "Now the model has been analyzed, and the structure can be displayed.\n",
    "\n",
    "You will find more on the logical structure [here](../../howto/structure/Logical_structure.ipynb)"
   ]
  },
  {
   "cell_type": "markdown",
   "id": "a5f71ad7",
   "metadata": {
    "slideshow": {
     "slide_type": "slide"
    }
   },
   "source": [
    "#### Model structure"
   ]
  },
  {
   "cell_type": "code",
   "execution_count": 12,
   "id": "15f19d5c",
   "metadata": {
    "scrolled": false,
    "slideshow": {
     "slide_type": "fragment"
    }
   },
   "outputs": [
    {
     "data": {
      "image/svg+xml": [
       "<svg xmlns=\"http://www.w3.org/2000/svg\" xmlns:xlink=\"http://www.w3.org/1999/xlink\" width=\"1060pt\" height=\"280pt\" viewBox=\"0.00 0.00 1060.00 280.07\">\n",
       "<g id=\"graph0\" class=\"graph\" transform=\"scale(1 1) rotate(0) translate(4 276.07)\">\n",
       "<title>TD</title>\n",
       "<polygon fill=\"white\" stroke=\"none\" points=\"-4,4 -4,-276.07 1056,-276.07 1056,4 -4,4\"/>\n",
       "<text text-anchor=\"middle\" x=\"526\" y=\"-7.8\" font-family=\"Times New Roman,serif\" font-size=\"14.00\">Model Structure</text>\n",
       "<!-- LABOR_GROWTH -->\n",
       "<g id=\"node1\" class=\"node\"><title>LABOR_GROWTH</title>\n",
       "<g id=\"a_node1\"><a xlink:title=\"LABOR_GROWTH\n",
       "Exogen\">\n",
       "<polygon fill=\"yellow\" stroke=\"black\" points=\"133,-88.0697 0,-88.0697 0,-52.0697 133,-52.0697 133,-88.0697\"/>\n",
       "<text text-anchor=\"start\" x=\"6.5\" y=\"-65.8697\" font-family=\"Times New Roman,serif\" font-size=\"14.00\" fill=\"blue\">LABOR_GROWTH:</text>\n",
       "</a>\n",
       "</g>\n",
       "</g>\n",
       "<!-- LABOR -->\n",
       "<g id=\"node7\" class=\"node\"><title>LABOR</title>\n",
       "<g id=\"a_node7\"><a xlink:title=\"LABOR\n",
       "FRML &lt;&gt; LABOR=LABOR(-1)+(LABOR_GROWTH * LABOR(-1))$\">\n",
       "<polygon fill=\"#63b8ff\" stroke=\"black\" points=\"232,-88.0697 169,-88.0697 169,-52.0697 232,-52.0697 232,-88.0697\"/>\n",
       "<text text-anchor=\"start\" x=\"175.5\" y=\"-65.8697\" font-family=\"Times New Roman,serif\" font-size=\"14.00\" fill=\"blue\">LABOR:</text>\n",
       "</a>\n",
       "</g>\n",
       "</g>\n",
       "<!-- LABOR_GROWTH&#45;&gt;LABOR -->\n",
       "<g id=\"edge2\" class=\"edge\"><title>LABOR_GROWTH-&gt;LABOR</title>\n",
       "<g id=\"a_edge2\"><a xlink:href=\"bogus\" xlink:title=\" LABOR_GROWTH -&gt; LABOR Min. att. 0%  max: 100%\">\n",
       "<path fill=\"none\" stroke=\"black\" stroke-width=\"8\" d=\"M133.113,-70.0697C141.751,-70.0697 150.398,-70.0697 158.462,-70.0697\"/>\n",
       "<polygon fill=\"black\" stroke=\"black\" stroke-width=\"8\" points=\"158.677,-77.0698 168.677,-70.0697 158.677,-63.0698 158.677,-77.0698\"/>\n",
       "</a>\n",
       "</g>\n",
       "</g>\n",
       "<!-- CONSUMPTION -->\n",
       "<g id=\"node2\" class=\"node\"><title>CONSUMPTION</title>\n",
       "<g id=\"a_node2\"><a xlink:title=\"CONSUMPTION\n",
       "FRML &lt;&gt; CONSUMPTION     = (1-SAVING_RATE)  * INCOME  $\">\n",
       "<polygon fill=\"#63b8ff\" stroke=\"black\" points=\"552,-142.07 434,-142.07 434,-106.07 552,-106.07 552,-142.07\"/>\n",
       "<text text-anchor=\"start\" x=\"440\" y=\"-119.87\" font-family=\"Times New Roman,serif\" font-size=\"14.00\" fill=\"blue\">CONSUMPTION:</text>\n",
       "</a>\n",
       "</g>\n",
       "</g>\n",
       "<!-- INVESTMENT -->\n",
       "<g id=\"node4\" class=\"node\"><title>INVESTMENT</title>\n",
       "<g id=\"a_node4\"><a xlink:title=\"INVESTMENT\n",
       "FRML &lt;&gt; INVESTMENT      = INCOME - CONSUMPTION  $\">\n",
       "<polygon fill=\"#63b8ff\" stroke=\"black\" points=\"721,-180.07 617,-180.07 617,-144.07 721,-144.07 721,-180.07\"/>\n",
       "<text text-anchor=\"start\" x=\"623\" y=\"-157.87\" font-family=\"Times New Roman,serif\" font-size=\"14.00\" fill=\"blue\">INVESTMENT:</text>\n",
       "</a>\n",
       "</g>\n",
       "</g>\n",
       "<!-- CONSUMPTION&#45;&gt;INVESTMENT -->\n",
       "<g id=\"edge8\" class=\"edge\"><title>CONSUMPTION-&gt;INVESTMENT</title>\n",
       "<g id=\"a_edge8\"><a xlink:href=\"bogus\" xlink:title=\" CONSUMPTION -&gt; INVESTMENT Min. att. -1900%  max: -1900%\">\n",
       "<path fill=\"none\" stroke=\"black\" stroke-width=\"8\" d=\"M552.424,-136.829C569.837,-140.632 588.97,-144.81 606.57,-148.654\"/>\n",
       "<polygon fill=\"black\" stroke=\"black\" stroke-width=\"8\" points=\"605.467,-155.578 616.731,-150.873 608.455,-141.9 605.467,-155.578\"/>\n",
       "</a>\n",
       "</g>\n",
       "</g>\n",
       "<!-- A -->\n",
       "<g id=\"node3\" class=\"node\"><title>A</title>\n",
       "<g id=\"a_node3\"><a xlink:title=\"A\n",
       "Exogen\">\n",
       "<polygon fill=\"yellow\" stroke=\"black\" points=\"227.5,-169.07 173.5,-169.07 173.5,-133.07 227.5,-133.07 227.5,-169.07\"/>\n",
       "<text text-anchor=\"start\" x=\"194.5\" y=\"-146.87\" font-family=\"Times New Roman,serif\" font-size=\"14.00\" fill=\"blue\">A:</text>\n",
       "</a>\n",
       "</g>\n",
       "</g>\n",
       "<!-- INCOME -->\n",
       "<g id=\"node6\" class=\"node\"><title>INCOME</title>\n",
       "<g id=\"a_node6\"><a xlink:title=\"INCOME\n",
       "FRML &lt;&gt; INCOME          = A  * CAPITAL**ALFA * LABOR **(1-ALFA)  $\">\n",
       "<polygon fill=\"#63b8ff\" stroke=\"black\" points=\"368,-196.07 298,-196.07 298,-160.07 368,-160.07 368,-196.07\"/>\n",
       "<text text-anchor=\"start\" x=\"304\" y=\"-173.87\" font-family=\"Times New Roman,serif\" font-size=\"14.00\" fill=\"blue\">INCOME:</text>\n",
       "</a>\n",
       "</g>\n",
       "</g>\n",
       "<!-- A&#45;&gt;INCOME -->\n",
       "<g id=\"edge5\" class=\"edge\"><title>A-&gt;INCOME</title>\n",
       "<g id=\"a_edge5\"><a xlink:href=\"bogus\" xlink:title=\" A -&gt; INCOME Min. att. -0%  max: -0%\">\n",
       "<path fill=\"none\" stroke=\"black\" d=\"M227.595,-156.469C244.775,-160.023 267.703,-164.767 287.695,-168.903\"/>\n",
       "<polygon fill=\"black\" stroke=\"black\" points=\"287.034,-172.34 297.535,-170.939 288.452,-165.485 287.034,-172.34\"/>\n",
       "</a>\n",
       "</g>\n",
       "</g>\n",
       "<!-- CAPITAL -->\n",
       "<g id=\"node9\" class=\"node\"><title>CAPITAL</title>\n",
       "<g id=\"a_node9\"><a xlink:title=\"CAPITAL\n",
       "FRML &lt;&gt; CAPITAL=CAPITAL(-1)+(INVESTMENT-DEPRECIATION_RATE * CAPITAL(-1))$\">\n",
       "<polygon fill=\"#63b8ff\" stroke=\"black\" points=\"861,-203.07 786,-203.07 786,-167.07 861,-167.07 861,-203.07\"/>\n",
       "<text text-anchor=\"start\" x=\"792.5\" y=\"-180.87\" font-family=\"Times New Roman,serif\" font-size=\"14.00\" fill=\"blue\">CAPITAL:</text>\n",
       "</a>\n",
       "</g>\n",
       "</g>\n",
       "<!-- INVESTMENT&#45;&gt;CAPITAL -->\n",
       "<g id=\"edge10\" class=\"edge\"><title>INVESTMENT-&gt;CAPITAL</title>\n",
       "<g id=\"a_edge10\"><a xlink:href=\"bogus\" xlink:title=\" INVESTMENT -&gt; CAPITAL Min. att. 6%  max: 100%\">\n",
       "<path fill=\"none\" stroke=\"black\" stroke-width=\"8\" d=\"M721.205,-169.792C738.689,-172.429 758.15,-175.364 775.303,-177.951\"/>\n",
       "<polygon fill=\"black\" stroke=\"black\" stroke-width=\"8\" points=\"774.716,-184.942 785.648,-179.512 776.804,-171.098 774.716,-184.942\"/>\n",
       "</a>\n",
       "</g>\n",
       "</g>\n",
       "<!-- ALFA -->\n",
       "<g id=\"node5\" class=\"node\"><title>ALFA</title>\n",
       "<g id=\"a_node5\"><a xlink:title=\"ALFA\n",
       "Exogen\">\n",
       "<polygon fill=\"yellow\" stroke=\"black\" points=\"227.5,-223.07 173.5,-223.07 173.5,-187.07 227.5,-187.07 227.5,-223.07\"/>\n",
       "<text text-anchor=\"start\" x=\"180.5\" y=\"-200.87\" font-family=\"Times New Roman,serif\" font-size=\"14.00\" fill=\"blue\">ALFA:</text>\n",
       "</a>\n",
       "</g>\n",
       "</g>\n",
       "<!-- ALFA&#45;&gt;INCOME -->\n",
       "<g id=\"edge9\" class=\"edge\"><title>ALFA-&gt;INCOME</title>\n",
       "<g id=\"a_edge9\"><a xlink:href=\"bogus\" xlink:title=\" ALFA -&gt; INCOME Min. att. -0%  max: -0%\">\n",
       "<path fill=\"none\" stroke=\"black\" d=\"M227.595,-199.671C244.775,-196.116 267.703,-191.373 287.695,-187.236\"/>\n",
       "<polygon fill=\"black\" stroke=\"black\" points=\"288.452,-190.654 297.535,-185.2 287.034,-183.799 288.452,-190.654\"/>\n",
       "</a>\n",
       "</g>\n",
       "</g>\n",
       "<!-- INCOME&#45;&gt;CONSUMPTION -->\n",
       "<g id=\"edge1\" class=\"edge\"><title>INCOME-&gt;CONSUMPTION</title>\n",
       "<g id=\"a_edge1\"><a xlink:href=\"bogus\" xlink:title=\" INCOME -&gt; CONSUMPTION Min. att. 100%  max: 100%\">\n",
       "<path fill=\"none\" stroke=\"black\" stroke-width=\"8\" d=\"M368.284,-166.352C386.229,-160.219 408.763,-152.518 429.667,-145.373\"/>\n",
       "<polygon fill=\"black\" stroke=\"black\" stroke-width=\"8\" points=\"431.936,-151.996 439.134,-142.138 427.408,-138.748 431.936,-151.996\"/>\n",
       "</a>\n",
       "</g>\n",
       "</g>\n",
       "<!-- INCOME&#45;&gt;INVESTMENT -->\n",
       "<g id=\"edge17\" class=\"edge\"><title>INCOME-&gt;INVESTMENT</title>\n",
       "<g id=\"a_edge17\"><a xlink:href=\"bogus\" xlink:title=\" INCOME -&gt; INVESTMENT Min. att. 2000%  max: 2000%\">\n",
       "<path fill=\"none\" stroke=\"black\" stroke-width=\"8\" d=\"M368.174,-176.433C424.272,-173.745 536.64,-168.362 606.753,-165.004\"/>\n",
       "<polygon fill=\"black\" stroke=\"black\" stroke-width=\"8\" points=\"607.126,-171.994 616.78,-164.523 606.456,-158.01 607.126,-171.994\"/>\n",
       "</a>\n",
       "</g>\n",
       "</g>\n",
       "<!-- LABOR&#45;&gt;INCOME -->\n",
       "<g id=\"edge11\" class=\"edge\"><title>LABOR-&gt;INCOME</title>\n",
       "<g id=\"a_edge11\"><a xlink:href=\"bogus\" xlink:title=\" LABOR -&gt; INCOME Min. att. 59%  max: 97%\">\n",
       "<path fill=\"none\" stroke=\"black\" stroke-width=\"8\" d=\"M212.7,-88.3513C224.528,-106.367 244.673,-133.654 268,-151.07 274.112,-155.633 281.111,-159.589 288.185,-162.96\"/>\n",
       "<polygon fill=\"black\" stroke=\"black\" stroke-width=\"8\" points=\"285.828,-169.571 297.802,-167.196 291.472,-156.759 285.828,-169.571\"/>\n",
       "</a>\n",
       "</g>\n",
       "</g>\n",
       "<!-- CAPITAL_INTENSITY -->\n",
       "<g id=\"node11\" class=\"node\"><title>CAPITAL_INTENSITY</title>\n",
       "<g id=\"a_node11\"><a xlink:title=\"CAPITAL_INTENSITY\n",
       "FRML &lt;&gt; CAPITAL_INTENSITY = CAPITAL/LABOR  $\">\n",
       "<polygon fill=\"#63b8ff\" stroke=\"black\" points=\"1052,-96.0697 897,-96.0697 897,-60.0697 1052,-60.0697 1052,-96.0697\"/>\n",
       "<text text-anchor=\"start\" x=\"903.5\" y=\"-73.8697\" font-family=\"Times New Roman,serif\" font-size=\"14.00\" fill=\"blue\">CAPITAL_INTENSITY:</text>\n",
       "</a>\n",
       "</g>\n",
       "</g>\n",
       "<!-- LABOR&#45;&gt;CAPITAL_INTENSITY -->\n",
       "<g id=\"edge12\" class=\"edge\"><title>LABOR-&gt;CAPITAL_INTENSITY</title>\n",
       "<g id=\"a_edge12\"><a xlink:href=\"bogus\" xlink:title=\" LABOR -&gt; CAPITAL_INTENSITY Min. att. 103%  max: 1269%\">\n",
       "<path fill=\"none\" stroke=\"black\" stroke-width=\"8\" d=\"M232.32,-55.3032C243.341,-50.6328 256.004,-45.9438 268,-43.0697 365.163,-19.791 392.087,-24.0697 492,-24.0697 492,-24.0697 492,-24.0697 670,-24.0697 749.466,-24.0697 838.852,-42.2362 899.916,-57.4956\"/>\n",
       "<polygon fill=\"black\" stroke=\"black\" stroke-width=\"8\" points=\"898.431,-64.3404 909.845,-60.0134 901.873,-50.7699 898.431,-64.3404\"/>\n",
       "</a>\n",
       "</g>\n",
       "</g>\n",
       "<!-- LABOR(&#45;1) -->\n",
       "<g id=\"node13\" class=\"node\"><title>LABOR(-1)</title>\n",
       "<g id=\"a_node13\"><a xlink:title=\"LABOR\n",
       "FRML &lt;&gt; LABOR=LABOR(-1)+(LABOR_GROWTH * LABOR(-1))$\">\n",
       "<polygon fill=\"springgreen\" stroke=\"black\" points=\"398,-88.0697 268,-88.0697 268,-52.0697 398,-52.0697 398,-88.0697\"/>\n",
       "<text text-anchor=\"start\" x=\"274\" y=\"-65.8697\" font-family=\"Times New Roman,serif\" font-size=\"14.00\" fill=\"blue\">LABOR(-1):LABOR</text>\n",
       "</a>\n",
       "</g>\n",
       "</g>\n",
       "<!-- LABOR&#45;&gt;LABOR(&#45;1) -->\n",
       "<g id=\"edge13\" class=\"edge\"><title>LABOR-&gt;LABOR(-1)</title>\n",
       "<g id=\"a_edge13\"><a xlink:href=\"bogus\" xlink:title=\" LABOR -&gt; LABOR(-1) Min. att. 0%  max: 100%\">\n",
       "<path fill=\"none\" stroke=\"black\" stroke-width=\"8\" d=\"M232.096,-64.2492C239.924,-63.7846 248.688,-63.4941 257.687,-63.3779\"/>\n",
       "<polygon fill=\"black\" stroke=\"black\" stroke-width=\"8\" points=\"257.949,-70.3766 267.91,-63.3206 257.87,-56.3768 257.949,-70.3766\"/>\n",
       "</a>\n",
       "</g>\n",
       "</g>\n",
       "<!-- SAVING_RATE -->\n",
       "<g id=\"node8\" class=\"node\"><title>SAVING_RATE</title>\n",
       "<g id=\"a_node8\"><a xlink:title=\"SAVING_RATE\n",
       "Exogen\">\n",
       "<polygon fill=\"yellow\" stroke=\"black\" points=\"389,-142.07 277,-142.07 277,-106.07 389,-106.07 389,-142.07\"/>\n",
       "<text text-anchor=\"start\" x=\"283\" y=\"-119.87\" font-family=\"Times New Roman,serif\" font-size=\"14.00\" fill=\"blue\">SAVING_RATE:</text>\n",
       "</a>\n",
       "</g>\n",
       "</g>\n",
       "<!-- SAVING_RATE&#45;&gt;CONSUMPTION -->\n",
       "<g id=\"edge4\" class=\"edge\"><title>SAVING_RATE-&gt;CONSUMPTION</title>\n",
       "<g id=\"a_edge4\"><a xlink:href=\"bogus\" xlink:title=\" SAVING_RATE -&gt; CONSUMPTION Min. att. 0%  max: 0%\">\n",
       "<path fill=\"none\" stroke=\"black\" d=\"M389.261,-124.07C400.411,-124.07 412.256,-124.07 423.789,-124.07\"/>\n",
       "<polygon fill=\"black\" stroke=\"black\" points=\"423.819,-127.57 433.819,-124.07 423.819,-120.57 423.819,-127.57\"/>\n",
       "</a>\n",
       "</g>\n",
       "</g>\n",
       "<!-- CAPITAL&#45;&gt;INCOME -->\n",
       "<g id=\"edge6\" class=\"edge\"><title>CAPITAL-&gt;INCOME</title>\n",
       "<g id=\"a_edge6\"><a xlink:href=\"bogus\" xlink:title=\" CAPITAL -&gt; INCOME Min. att. 3%  max: 54%\">\n",
       "<path fill=\"none\" stroke=\"black\" stroke-width=\"5.42297\" d=\"M785.634,-187.498C774.217,-188.144 761.593,-188.75 750,-189.07 609.591,-192.94 574.312,-190.556 434,-184.07 415.872,-183.232 395.908,-182.08 378.617,-181.01\"/>\n",
       "<polygon fill=\"black\" stroke=\"black\" stroke-width=\"5.42297\" points=\"378.514,-176.249 368.236,-180.357 377.919,-185.72 378.514,-176.249\"/>\n",
       "</a>\n",
       "</g>\n",
       "</g>\n",
       "<!-- CAPITAL&#45;&gt;CAPITAL_INTENSITY -->\n",
       "<g id=\"edge7\" class=\"edge\"><title>CAPITAL-&gt;CAPITAL_INTENSITY</title>\n",
       "<g id=\"a_edge7\"><a xlink:href=\"bogus\" xlink:title=\" CAPITAL -&gt; CAPITAL_INTENSITY Min. att. -647%  max: -3%\">\n",
       "<path fill=\"none\" stroke=\"black\" stroke-width=\"8\" d=\"M849.776,-166.919C874.499,-149.164 912.314,-122.008 939.63,-102.392\"/>\n",
       "<polygon fill=\"black\" stroke=\"black\" stroke-width=\"8\" points=\"944.061,-107.829 948.1,-96.3098 935.894,-96.457 944.061,-107.829\"/>\n",
       "</a>\n",
       "</g>\n",
       "</g>\n",
       "<!-- CAPITAL(&#45;1) -->\n",
       "<g id=\"node12\" class=\"node\"><title>CAPITAL(-1)</title>\n",
       "<g id=\"a_node12\"><a xlink:title=\"CAPITAL\n",
       "FRML &lt;&gt; CAPITAL=CAPITAL(-1)+(INVESTMENT-DEPRECIATION_RATE * CAPITAL(-1))$\">\n",
       "<polygon fill=\"springgreen\" stroke=\"black\" points=\"1051.5,-203.07 897.5,-203.07 897.5,-167.07 1051.5,-167.07 1051.5,-203.07\"/>\n",
       "<text text-anchor=\"start\" x=\"903.5\" y=\"-180.87\" font-family=\"Times New Roman,serif\" font-size=\"14.00\" fill=\"blue\">CAPITAL(-1):CAPITAL</text>\n",
       "</a>\n",
       "</g>\n",
       "</g>\n",
       "<!-- CAPITAL&#45;&gt;CAPITAL(&#45;1) -->\n",
       "<g id=\"edge3\" class=\"edge\"><title>CAPITAL-&gt;CAPITAL(-1)</title>\n",
       "<g id=\"a_edge3\"><a xlink:href=\"bogus\" xlink:title=\" CAPITAL -&gt; CAPITAL(-1) Min. att. 0%  max: 94%\">\n",
       "<path fill=\"none\" stroke=\"black\" stroke-width=\"8\" d=\"M861.331,-179.154C869.346,-178.766 878.15,-178.513 887.192,-178.396\"/>\n",
       "<polygon fill=\"black\" stroke=\"black\" stroke-width=\"8\" points=\"887.523,-185.393 897.472,-178.321 887.422,-171.394 887.523,-185.393\"/>\n",
       "</a>\n",
       "</g>\n",
       "</g>\n",
       "<!-- DEPRECIATION_RATE -->\n",
       "<g id=\"node10\" class=\"node\"><title>DEPRECIATION_RATE</title>\n",
       "<g id=\"a_node10\"><a xlink:title=\"DEPRECIATION_RATE\n",
       "Exogen\">\n",
       "<polygon fill=\"yellow\" stroke=\"black\" points=\"750,-272.07 588,-272.07 588,-236.07 750,-236.07 750,-272.07\"/>\n",
       "<text text-anchor=\"start\" x=\"594\" y=\"-249.87\" font-family=\"Times New Roman,serif\" font-size=\"14.00\" fill=\"blue\">DEPRECIATION_RATE:</text>\n",
       "</a>\n",
       "</g>\n",
       "</g>\n",
       "<!-- DEPRECIATION_RATE&#45;&gt;CAPITAL -->\n",
       "<g id=\"edge16\" class=\"edge\"><title>DEPRECIATION_RATE-&gt;CAPITAL</title>\n",
       "<g id=\"a_edge16\"><a xlink:href=\"bogus\" xlink:title=\" DEPRECIATION_RATE -&gt; CAPITAL Min. att. 0%  max: 0%\">\n",
       "<path fill=\"none\" stroke=\"black\" d=\"M717.258,-235.997C728.096,-231.624 739.512,-226.831 750,-222.07 759.653,-217.687 769.875,-212.695 779.503,-207.828\"/>\n",
       "<polygon fill=\"black\" stroke=\"black\" points=\"781.202,-210.89 788.515,-203.223 778.017,-204.657 781.202,-210.89\"/>\n",
       "</a>\n",
       "</g>\n",
       "</g>\n",
       "<!-- CAPITAL(&#45;1)&#45;&gt;CAPITAL -->\n",
       "<g id=\"edge15\" class=\"edge\"><title>CAPITAL(-1)-&gt;CAPITAL</title>\n",
       "<g id=\"a_edge15\"><a xlink:href=\"bogus\" xlink:title=\"NA\">\n",
       "<path fill=\"none\" stroke=\"black\" stroke-width=\"0.5\" d=\"M897.472,-191.818C888.624,-191.804 879.805,-191.662 871.513,-191.394\"/>\n",
       "<polygon fill=\"black\" stroke=\"black\" stroke-width=\"0.5\" points=\"871.464,-187.889 861.331,-190.985 871.183,-194.883 871.464,-187.889\"/>\n",
       "</a>\n",
       "</g>\n",
       "</g>\n",
       "<!-- LABOR(&#45;1)&#45;&gt;LABOR -->\n",
       "<g id=\"edge14\" class=\"edge\"><title>LABOR(-1)-&gt;LABOR</title>\n",
       "<g id=\"a_edge14\"><a xlink:href=\"bogus\" xlink:title=\"NA\">\n",
       "<path fill=\"none\" stroke=\"black\" stroke-width=\"0.5\" d=\"M267.91,-76.8187C259.126,-76.8331 250.315,-76.6843 242.113,-76.3724\"/>\n",
       "<polygon fill=\"black\" stroke=\"black\" stroke-width=\"0.5\" points=\"242.253,-72.8752 232.096,-75.8901 241.917,-79.8671 242.253,-72.8752\"/>\n",
       "</a>\n",
       "</g>\n",
       "</g>\n",
       "</g>\n",
       "</svg>"
      ],
      "text/plain": [
       "<IPython.core.display.SVG object>"
      ]
     },
     "metadata": {},
     "output_type": "display_data"
    }
   ],
   "source": [
    "msolow.drawmodel( title=\"Model Structure\", png=latex,size=(15,15))"
   ]
  },
  {
   "cell_type": "markdown",
   "id": "55308604",
   "metadata": {
    "slideshow": {
     "slide_type": "slide"
    }
   },
   "source": [
    "#### Adjacency matrix\n",
    "\n",
    "Another way to illustrate the dependency graph is an adjacency matrix. "
   ]
  },
  {
   "cell_type": "code",
   "execution_count": 13,
   "id": "575d2fb9",
   "metadata": {
    "slideshow": {
     "slide_type": "slide"
    }
   },
   "outputs": [
    {
     "data": {
      "image/png": "[encoded data removed]",
      "text/plain": [
       "<Figure size 360x360 with 1 Axes>"
      ]
     },
     "metadata": {
      "needs_background": "light"
     },
     "output_type": "display_data"
    }
   ],
   "source": [
    "msolow.plotadjacency();"
   ]
  },
  {
   "cell_type": "markdown",
   "id": "506a4005",
   "metadata": {
    "slideshow": {
     "slide_type": "fragment"
    }
   },
   "source": [
    "The variables  ['INVESTMENT', 'CONSUMPTION', 'CAPITAL', 'INCOME'] in the red area are the core of the model and has to be solved as a system. \n",
    "\n",
    "LABOR is the prolog and can be calculated before the core is solved. While CAPITAL_INTENSE is the epilog which can be calculated after the core is solved. \n",
    "\n",
    "Many models comform to this pattern. And for solving purpose a model is divided into a prolog, core and an epilog. Even if the core is actually consistent of several strong components. "
   ]
  },
  {
   "cell_type": "markdown",
   "id": "ae523597",
   "metadata": {
    "slideshow": {
     "slide_type": "slide"
    }
   },
   "source": [
    "(solow-python-code)=\n",
    "### The python function used to solve the model\n",
    "In order to solve the model Modelflow will generate a python function which implements the model. The user will hopeful  newer have to relate to the generated python code. **The point of modelflow is, that the user has to relate to the specification of the business logic, not the implementation in code**  "
   ]
  },
  {
   "cell_type": "code",
   "execution_count": 15,
   "id": "5e1113a2",
   "metadata": {
    "slideshow": {
     "slide_type": "slide"
    }
   },
   "outputs": [
    {
     "name": "stdout",
     "output_type": "stream",
     "text": [
      "def make_los(funks=[],errorfunk=None):\n",
      "    import time\n",
      "    import tqdm\n",
      "    from numba import jit\n",
      "    from modeluserfunk import jit, recode\n",
      "    from modelBLfunk import array, classfunk, clognorm, exp, gamma, inspect, jit, lifetime_credit_loss, log, logit, logit_inverse, lognorm, matrix, mv_opt, mv_opt_prop, norm, normcdf, qgamma, sqrt, sum_excel, transpose\n",
      "    def prolog0(values,outvalues,row,alfa=1.0):\n",
      "        try :\n",
      "            pass\n",
      "            values[row,0]=values[row-1,0]+(values[row,5]*values[row-1,0]/log(-42))\n",
      "        except :\n",
      "            errorfunk(values,sys.exc_info()[2].tb_lineno,overhead=9,overeq=0)\n",
      "            raise\n",
      "        return \n",
      "    def prolog(values,outvalues,row,alfa=1.0):\n",
      "        prolog0(values,outvalues,row,alfa=alfa)\n",
      "        return  \n",
      "    def core0(values,outvalues,row,alfa=1.0):\n",
      "        try :\n",
      "            pass\n",
      "            values[row,9]=values[row,3]*values[row,1]**values[row,2]*values[row,0]**(1-values[row,2])\n",
      "            values[row,8]=(1-values[row,6])*values[row,9]\n",
      "            values[row,7]=values[row,9]-values[row,8]\n",
      "            values[row,1]=values[row-1,1]+(values[row,7]-values[row,4]*values[row-1,1])\n",
      "        except :\n",
      "            errorfunk(values,sys.exc_info()[2].tb_lineno,overhead=20,overeq=1)\n",
      "            raise\n",
      "        return \n",
      "    def core(values,outvalues,row,alfa=1.0):\n",
      "        core0(values,outvalues,row,alfa=alfa)\n",
      "        return  \n",
      "    def epilog0(values,outvalues,row,alfa=1.0):\n",
      "        try :\n",
      "            pass\n",
      "            values[row,10]=values[row,1]/values[row,0]\n",
      "        except :\n",
      "            errorfunk(values,sys.exc_info()[2].tb_lineno,overhead=34,overeq=5)\n",
      "            raise\n",
      "        return \n",
      "    def epilog(values,outvalues,row,alfa=1.0):\n",
      "        epilog0(values,outvalues,row,alfa=alfa)\n",
      "        return  \n",
      "    return prolog,core,epilog\n",
      "\n"
     ]
    }
   ],
   "source": [
    "print(msolow.make_los_text)"
   ]
  },
  {
   "cell_type": "code",
   "execution_count": null,
   "id": "948ce196",
   "metadata": {},
   "outputs": [],
   "source": []
  }
 ],
 "metadata": {
  "celltoolbar": "Slideshow",
  "hide_input": false,
  "kernelspec": {
   "display_name": "Python 3 (ipykernel)",
   "language": "python",
   "name": "python3"
  },
  "language_info": {
   "codemirror_mode": {
    "name": "ipython",
    "version": 3
   },
   "file_extension": ".py",
   "mimetype": "text/x-python",
   "name": "python",
   "nbconvert_exporter": "python",
   "pygments_lexer": "ipython3",
   "version": "3.8.8"
  },
  "toc": {
   "base_numbering": 1,
   "nav_menu": {},
   "number_sections": true,
   "sideBar": true,
   "skip_h1_title": false,
   "title_cell": "Table of Contents",
   "title_sidebar": "Contents",
   "toc_cell": false,
   "toc_position": {
    "height": "calc(100% - 180px)",
    "left": "10px",
    "top": "150px",
    "width": "211.875px"
   },
   "toc_section_display": true,
   "toc_window_display": false
  },
  "varInspector": {
   "cols": {
    "lenName": 16,
    "lenType": 16,
    "lenVar": 40
   },
   "kernels_config": {
    "python": {
     "delete_cmd_postfix": "",
     "delete_cmd_prefix": "del ",
     "library": "var_list.py",
     "varRefreshCmd": "print(var_dic_list())"
    },
    "r": {
     "delete_cmd_postfix": ") ",
     "delete_cmd_prefix": "rm(",
     "library": "var_list.r",
     "varRefreshCmd": "cat(var_dic_list()) "
    }
   },
   "types_to_exclude": [
    "module",
    "function",
    "builtin_function_or_method",
    "instance",
    "_Feature"
   ],
   "window_display": false
  }
 },
 "nbformat": 4,
 "nbformat_minor": 5
}
